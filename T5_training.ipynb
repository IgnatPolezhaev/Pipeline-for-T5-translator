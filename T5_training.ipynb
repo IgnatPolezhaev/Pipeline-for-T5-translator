{
  "cells": [
    {
      "cell_type": "code",
      "execution_count": 1,
      "id": "Wbg-F-3IRLna",
      "metadata": {
        "colab": {
          "base_uri": "https://localhost:8080/"
        },
        "id": "Wbg-F-3IRLna",
        "outputId": "3357310b-26ef-4825-e084-d0b6dae94c22"
      },
      "outputs": [
        {
          "output_type": "stream",
          "name": "stdout",
          "text": [
            "Looking in indexes: https://pypi.org/simple, https://us-python.pkg.dev/colab-wheels/public/simple/\n",
            "Requirement already satisfied: transformers in /usr/local/lib/python3.10/dist-packages (4.29.2)\n",
            "Requirement already satisfied: filelock in /usr/local/lib/python3.10/dist-packages (from transformers) (3.12.0)\n",
            "Requirement already satisfied: huggingface-hub<1.0,>=0.14.1 in /usr/local/lib/python3.10/dist-packages (from transformers) (0.14.1)\n",
            "Requirement already satisfied: numpy>=1.17 in /usr/local/lib/python3.10/dist-packages (from transformers) (1.22.4)\n",
            "Requirement already satisfied: packaging>=20.0 in /usr/local/lib/python3.10/dist-packages (from transformers) (23.1)\n",
            "Requirement already satisfied: pyyaml>=5.1 in /usr/local/lib/python3.10/dist-packages (from transformers) (6.0)\n",
            "Requirement already satisfied: regex!=2019.12.17 in /usr/local/lib/python3.10/dist-packages (from transformers) (2022.10.31)\n",
            "Requirement already satisfied: requests in /usr/local/lib/python3.10/dist-packages (from transformers) (2.27.1)\n",
            "Requirement already satisfied: tokenizers!=0.11.3,<0.14,>=0.11.1 in /usr/local/lib/python3.10/dist-packages (from transformers) (0.13.3)\n",
            "Requirement already satisfied: tqdm>=4.27 in /usr/local/lib/python3.10/dist-packages (from transformers) (4.65.0)\n",
            "Requirement already satisfied: fsspec in /usr/local/lib/python3.10/dist-packages (from huggingface-hub<1.0,>=0.14.1->transformers) (2023.4.0)\n",
            "Requirement already satisfied: typing-extensions>=3.7.4.3 in /usr/local/lib/python3.10/dist-packages (from huggingface-hub<1.0,>=0.14.1->transformers) (4.5.0)\n",
            "Requirement already satisfied: urllib3<1.27,>=1.21.1 in /usr/local/lib/python3.10/dist-packages (from requests->transformers) (1.26.15)\n",
            "Requirement already satisfied: certifi>=2017.4.17 in /usr/local/lib/python3.10/dist-packages (from requests->transformers) (2022.12.7)\n",
            "Requirement already satisfied: charset-normalizer~=2.0.0 in /usr/local/lib/python3.10/dist-packages (from requests->transformers) (2.0.12)\n",
            "Requirement already satisfied: idna<4,>=2.5 in /usr/local/lib/python3.10/dist-packages (from requests->transformers) (3.4)\n",
            "Looking in indexes: https://pypi.org/simple, https://us-python.pkg.dev/colab-wheels/public/simple/\n",
            "Requirement already satisfied: tokenizers in /usr/local/lib/python3.10/dist-packages (0.13.3)\n",
            "Looking in indexes: https://pypi.org/simple, https://us-python.pkg.dev/colab-wheels/public/simple/\n",
            "Requirement already satisfied: torchtext in /usr/local/lib/python3.10/dist-packages (0.15.2)\n",
            "Requirement already satisfied: tqdm in /usr/local/lib/python3.10/dist-packages (from torchtext) (4.65.0)\n",
            "Requirement already satisfied: requests in /usr/local/lib/python3.10/dist-packages (from torchtext) (2.27.1)\n",
            "Requirement already satisfied: torch==2.0.1 in /usr/local/lib/python3.10/dist-packages (from torchtext) (2.0.1+cu118)\n",
            "Requirement already satisfied: numpy in /usr/local/lib/python3.10/dist-packages (from torchtext) (1.22.4)\n",
            "Requirement already satisfied: torchdata==0.6.1 in /usr/local/lib/python3.10/dist-packages (from torchtext) (0.6.1)\n",
            "Requirement already satisfied: filelock in /usr/local/lib/python3.10/dist-packages (from torch==2.0.1->torchtext) (3.12.0)\n",
            "Requirement already satisfied: typing-extensions in /usr/local/lib/python3.10/dist-packages (from torch==2.0.1->torchtext) (4.5.0)\n",
            "Requirement already satisfied: sympy in /usr/local/lib/python3.10/dist-packages (from torch==2.0.1->torchtext) (1.11.1)\n",
            "Requirement already satisfied: networkx in /usr/local/lib/python3.10/dist-packages (from torch==2.0.1->torchtext) (3.1)\n",
            "Requirement already satisfied: jinja2 in /usr/local/lib/python3.10/dist-packages (from torch==2.0.1->torchtext) (3.1.2)\n",
            "Requirement already satisfied: triton==2.0.0 in /usr/local/lib/python3.10/dist-packages (from torch==2.0.1->torchtext) (2.0.0)\n",
            "Requirement already satisfied: urllib3>=1.25 in /usr/local/lib/python3.10/dist-packages (from torchdata==0.6.1->torchtext) (1.26.15)\n",
            "Requirement already satisfied: cmake in /usr/local/lib/python3.10/dist-packages (from triton==2.0.0->torch==2.0.1->torchtext) (3.25.2)\n",
            "Requirement already satisfied: lit in /usr/local/lib/python3.10/dist-packages (from triton==2.0.0->torch==2.0.1->torchtext) (16.0.5)\n",
            "Requirement already satisfied: certifi>=2017.4.17 in /usr/local/lib/python3.10/dist-packages (from requests->torchtext) (2022.12.7)\n",
            "Requirement already satisfied: charset-normalizer~=2.0.0 in /usr/local/lib/python3.10/dist-packages (from requests->torchtext) (2.0.12)\n",
            "Requirement already satisfied: idna<4,>=2.5 in /usr/local/lib/python3.10/dist-packages (from requests->torchtext) (3.4)\n",
            "Requirement already satisfied: MarkupSafe>=2.0 in /usr/local/lib/python3.10/dist-packages (from jinja2->torch==2.0.1->torchtext) (2.1.2)\n",
            "Requirement already satisfied: mpmath>=0.19 in /usr/local/lib/python3.10/dist-packages (from sympy->torch==2.0.1->torchtext) (1.3.0)\n",
            "Looking in indexes: https://pypi.org/simple, https://us-python.pkg.dev/colab-wheels/public/simple/\n",
            "Requirement already satisfied: sentencepiece in /usr/local/lib/python3.10/dist-packages (0.1.99)\n",
            "Looking in indexes: https://pypi.org/simple, https://us-python.pkg.dev/colab-wheels/public/simple/\n",
            "Requirement already satisfied: huggingface_hub in /usr/local/lib/python3.10/dist-packages (0.14.1)\n",
            "Requirement already satisfied: filelock in /usr/local/lib/python3.10/dist-packages (from huggingface_hub) (3.12.0)\n",
            "Requirement already satisfied: fsspec in /usr/local/lib/python3.10/dist-packages (from huggingface_hub) (2023.4.0)\n",
            "Requirement already satisfied: requests in /usr/local/lib/python3.10/dist-packages (from huggingface_hub) (2.27.1)\n",
            "Requirement already satisfied: tqdm>=4.42.1 in /usr/local/lib/python3.10/dist-packages (from huggingface_hub) (4.65.0)\n",
            "Requirement already satisfied: pyyaml>=5.1 in /usr/local/lib/python3.10/dist-packages (from huggingface_hub) (6.0)\n",
            "Requirement already satisfied: typing-extensions>=3.7.4.3 in /usr/local/lib/python3.10/dist-packages (from huggingface_hub) (4.5.0)\n",
            "Requirement already satisfied: packaging>=20.9 in /usr/local/lib/python3.10/dist-packages (from huggingface_hub) (23.1)\n",
            "Requirement already satisfied: urllib3<1.27,>=1.21.1 in /usr/local/lib/python3.10/dist-packages (from requests->huggingface_hub) (1.26.15)\n",
            "Requirement already satisfied: certifi>=2017.4.17 in /usr/local/lib/python3.10/dist-packages (from requests->huggingface_hub) (2022.12.7)\n",
            "Requirement already satisfied: charset-normalizer~=2.0.0 in /usr/local/lib/python3.10/dist-packages (from requests->huggingface_hub) (2.0.12)\n",
            "Requirement already satisfied: idna<4,>=2.5 in /usr/local/lib/python3.10/dist-packages (from requests->huggingface_hub) (3.4)\n"
          ]
        }
      ],
      "source": [
        "!pip install transformers\n",
        "!pip install tokenizers\n",
        "!pip install torchtext\n",
        "!pip install sentencepiece\n",
        "!pip install huggingface_hub"
      ]
    },
    {
      "cell_type": "markdown",
      "id": "1a62d887-01aa-4980-9220-3bf28c077504",
      "metadata": {
        "id": "1a62d887-01aa-4980-9220-3bf28c077504"
      },
      "source": [
        "### Домашнее задание Transformers Training (50 баллов)"
      ]
    },
    {
      "cell_type": "markdown",
      "id": "f31d7452-febe-4d25-a9c1-005fcc26b35b",
      "metadata": {
        "id": "f31d7452-febe-4d25-a9c1-005fcc26b35b"
      },
      "source": [
        "В этом домашнем задании требуется обучить несколько Transformer-based моделей в задаче машинного перевода. Для обучения можно воспользоваться текущим проектом, так и реализовать свой пайплайн обучения. Если будете использовать проект, теги **TODO** проекта отмечают, какие компоненты надо реализовать.\n",
        "В ноутбуке нужно только отобразить результаты обучения и выводы. Архитектура модели(количетсво слоев, размерность и тд) остается на ваш выбор.\n",
        "\n",
        "Ваш код обучения нужно выложить на ваш github, в строке ниже дать ссылку на него. В первую очередь будут оцениваться результаты в ноутбуке, код нужен для проверки адекватности результатов. \n",
        "\n",
        "Обучать модели до конца не нужно, только для демонстрации, что модель обучается и рабочая - снижение val_loss, рост bleu_score."
      ]
    },
    {
      "cell_type": "markdown",
      "id": "a691e7b9-6538-42b1-96b8-838f2efab4af",
      "metadata": {
        "id": "a691e7b9-6538-42b1-96b8-838f2efab4af"
      },
      "source": [
        "#### Сcылка на ваш github с проектом(вставить свой) - https://github.com/IgnatPolezhaev/Pipeline-for-T5-translator\n",
        "\n",
        "Ноутбук с результатами выкладывать на ваш **google диск** курса. "
      ]
    },
    {
      "cell_type": "code",
      "execution_count": 2,
      "id": "ebd8cc8b",
      "metadata": {
        "colab": {
          "base_uri": "https://localhost:8080/",
          "height": 145,
          "referenced_widgets": [
            "c00653d2d52b42f29551cfe615eb2276",
            "ee00ebc845f84573b1a72490aa5d9ac3",
            "cf9ad25810e840809d6b7680e772c410",
            "f14012c84da6457aa930991bb593e895",
            "9d54756d03264e5198da2530680ef606",
            "0b9b33e8953947b8bec0382a912c9fa6",
            "09e0750cb3114e678ad9928163a9e9d7",
            "468480e64c544d94abf02796d23902e1",
            "23cf2954588a476e824549a023ead4c7",
            "f0e8dbbd6fea402297fd12261fa16883",
            "f086d249c3af44e5be6effcce66c002f",
            "6f5965d248014d64bd920f37e26b1052",
            "9a2ff3a771624b2ab232bfdb316ff215",
            "b9fb330cf3e64a358d791eb450f6e9ed",
            "adcd4a2138b04496abcc1f91564c2709",
            "8681caf1b2da4effa73b3582c3aac21d",
            "c520b755812c4312acb9b5e6b771c9a1",
            "1728ea7a6a304fa6a69d9ee3d70ae5e9",
            "c18558cd398b455dbabfbaf50de6e40a",
            "abae6fdd873140bdb00d6d794da501b3",
            "be6b12e7e9004d28b348d7f99afce696",
            "afb1b8a97770450ab7b0c19bde67f2fb",
            "007de1c7791249be86bf23b9ae42507e",
            "68fff2eb116f41a1b0991f9af86272dc",
            "31b183c5a97243be937db4865fcd796c",
            "d331461bd8bb46f3b12799fc21eece6b",
            "5da5d222e7d34e2c9a224b68a77f77d3",
            "2fcb22a90b6245dcb06f8019b7afbeab",
            "b6077d98fe154eb0b0d8e2e80c29c2f7",
            "e73da1a6af344713b40e3fb227b9c949",
            "2d28eb250d8840929b9f1fbb422cd435",
            "76a377c79a92424e910ae0ad87da5090"
          ]
        },
        "id": "ebd8cc8b",
        "outputId": "7605f002-15a3-434d-9eaf-0d224fb94bf2"
      },
      "outputs": [
        {
          "output_type": "display_data",
          "data": {
            "text/plain": [
              "VBox(children=(HTML(value='<center> <img\\nsrc=https://huggingface.co/front/assets/huggingface_logo-noborder.sv…"
            ],
            "application/vnd.jupyter.widget-view+json": {
              "version_major": 2,
              "version_minor": 0,
              "model_id": "c00653d2d52b42f29551cfe615eb2276"
            }
          },
          "metadata": {}
        }
      ],
      "source": [
        "from huggingface_hub import notebook_login\n",
        "notebook_login()"
      ]
    },
    {
      "cell_type": "code",
      "execution_count": 2,
      "id": "3gkL5l8x80um",
      "metadata": {
        "colab": {
          "base_uri": "https://localhost:8080/"
        },
        "id": "3gkL5l8x80um",
        "outputId": "2bf36f4f-befb-4716-b1b1-5baf48376ed8"
      },
      "outputs": [
        {
          "output_type": "stream",
          "name": "stdout",
          "text": [
            "Drive already mounted at /content/drive; to attempt to forcibly remount, call drive.mount(\"/content/drive\", force_remount=True).\n"
          ]
        }
      ],
      "source": [
        "from google.colab import drive\n",
        "drive.mount('/content/drive')"
      ]
    },
    {
      "cell_type": "code",
      "execution_count": 3,
      "id": "vLkINly884YL",
      "metadata": {
        "colab": {
          "base_uri": "https://localhost:8080/"
        },
        "id": "vLkINly884YL",
        "outputId": "8b26c133-18db-4df4-964f-1d54d12b5e48"
      },
      "outputs": [
        {
          "output_type": "stream",
          "name": "stdout",
          "text": [
            "/content/drive/MyDrive/T5/src\n"
          ]
        }
      ],
      "source": [
        "%cd /content/drive/MyDrive/T5/src"
      ]
    },
    {
      "cell_type": "markdown",
      "id": "dbca1e62-b210-4426-9854-55b652417a4b",
      "metadata": {
        "id": "dbca1e62-b210-4426-9854-55b652417a4b"
      },
      "source": [
        "### Reading data\n",
        "\n",
        "`\n",
        "wget https://www.manythings.org/anki/rus-eng.zip && unzip rus-eng.zip\n",
        "`\n",
        "\n",
        "Модели нужно обучить на задаче перевода с английского на русский. "
      ]
    },
    {
      "cell_type": "code",
      "execution_count": null,
      "id": "710e84de-f7a4-46da-a611-74c90a67e24b",
      "metadata": {
        "colab": {
          "base_uri": "https://localhost:8080/"
        },
        "id": "710e84de-f7a4-46da-a611-74c90a67e24b",
        "outputId": "c32279a8-55ac-49ee-b6c1-177faaf4ce64"
      },
      "outputs": [
        {
          "name": "stdout",
          "output_type": "stream",
          "text": [
            "--2023-05-19 16:59:53--  https://www.manythings.org/anki/rus-eng.zip\n",
            "Resolving www.manythings.org (www.manythings.org)... 173.254.30.110\n",
            "Connecting to www.manythings.org (www.manythings.org)|173.254.30.110|:443... connected.\n",
            "HTTP request sent, awaiting response... 200 OK\n",
            "Length: 15460248 (15M) [application/zip]\n",
            "Saving to: ‘rus-eng.zip.2’\n",
            "\n",
            "rus-eng.zip.2       100%[===================>]  14.74M  43.0MB/s    in 0.3s    \n",
            "\n",
            "2023-05-19 16:59:54 (43.0 MB/s) - ‘rus-eng.zip.2’ saved [15460248/15460248]\n",
            "\n",
            "Archive:  rus-eng.zip\n",
            "replace rus.txt? [y]es, [n]o, [A]ll, [N]one, [r]ename: y\n",
            "  inflating: rus.txt                 \n",
            "replace _about.txt? [y]es, [n]o, [A]ll, [N]one, [r]ename: y\n",
            "  inflating: _about.txt              \n"
          ]
        }
      ],
      "source": [
        "!wget https://www.manythings.org/anki/rus-eng.zip && unzip rus-eng.zip"
      ]
    },
    {
      "cell_type": "markdown",
      "id": "cc772a6e-7d1a-4d8d-8024-0454a948835b",
      "metadata": {
        "id": "cc772a6e-7d1a-4d8d-8024-0454a948835b",
        "tags": []
      },
      "source": [
        "### Training Seq2seq Transformer модель(25 баллов)\n",
        "\n",
        "Реализуйте Seq2seq Transformer. В качестве блока трансформера можно использовать https://pytorch.org/docs/stable/generated/torch.nn.Transformer.html. В качестве токенизатора воспользуйтесь HuggingFace токенизатор для source/target языков - https://huggingface.co/docs/transformers/fast_tokenizers\n",
        "В качестве максимальной длинны возьмите предложения длинной **до 15 слов**, без каких либо префиксов. \n",
        "\n",
        "Не забудьте остальные элементы модели:\n",
        "* Мы можем использовать 1 трансформер как энкодер - декодером будет выступать линейный слой. \n",
        "* Обучите свой BPE токенизатор - https://huggingface.co/docs/transformers/fast_tokenizers\n",
        "* Матрицу эмбеддингов токенов\n",
        "* Матрицу позицонных эмбеддингов\n",
        "* Линейный слой проекции в target словарь\n",
        "* Функцию маскирования будущих состояний attention, так как модель авто-регрессионна\n",
        "* Learning rate schedualer\n",
        "\n",
        "\n",
        "В качестве результатов, приложите слудующие данные:\n",
        "1) Параметры обучения - learning rate, batch_size, epoch_num, размерность скрытого слоя, количетсво слоев\n",
        "2) Графики обучения - train loss, val loss, bleu score\n",
        "3) Примеры переводов вашей модели(10 штук) - source text, true target text, predicted target text"
      ]
    },
    {
      "cell_type": "code",
      "execution_count": null,
      "id": "ccff0c9a",
      "metadata": {
        "id": "ccff0c9a"
      },
      "outputs": [],
      "source": []
    },
    {
      "cell_type": "markdown",
      "id": "245297ae-d62b-4227-9312-ccff5a1c13c9",
      "metadata": {
        "id": "245297ae-d62b-4227-9312-ccff5a1c13c9"
      },
      "source": [
        "### Fine-tune pretrained T5 (25 баллов)\n",
        "\n",
        "Реализуйте Seq2seq Pretrained T5. Воспользуйтесь https://huggingface.co/docs/transformers/model_doc/t5 предобученной моделью. В качестве максимальной длинны возьмите предложения длинной **до 15 слов**, без каких либо префиксов. Архитектура модели(количетсво слоев, размерность и тд) остается на ваш выбор.\n",
        "\n",
        "Не забудьте важные аспекты обучения модели:\n",
        "* Взять готовый t5 токенизатор\n",
        "* Resize matrix embedding - скорей всего ваша матрица эмбеддингов не будет включать эмбеддинги из вашего сета. Пример обновления матрицы эмбеддингов тут тут https://github.com/runnerup96/Transformers-Tuning/blob/main/t5_encoder_decoder.py\n",
        "* Learning rate schedualer/Adafactor with constant learning rate\n",
        "\n",
        "\n",
        "В качестве результатов, приложите следующие данные:\n",
        "1) Параметры обучения - learning rate, batch_size, epoch_num, pretrained model name\n",
        "2) Графики обучения - train loss, val loss, bleu score\n",
        "3) Примеры переводов вашей модели(10 штук) - source text, true target text, predicted target text"
      ]
    },
    {
      "cell_type": "code",
      "execution_count": 4,
      "id": "c747a0e4",
      "metadata": {
        "id": "c747a0e4"
      },
      "outputs": [],
      "source": [
        "import torch\n",
        "import yaml\n",
        "import numpy as np\n",
        "from models import trainer\n",
        "from data.datamodule_t5 import DataManager\n",
        "from txt_logger import TXTLogger\n",
        "from data.tokenizer_t5 import T5Tokenizer\n",
        "from models.seq2seq_t5 import Seq2SeqT5"
      ]
    },
    {
      "cell_type": "code",
      "execution_count": 5,
      "id": "420a17f2",
      "metadata": {
        "colab": {
          "base_uri": "https://localhost:8080/"
        },
        "id": "420a17f2",
        "outputId": "22c8ec5a-f7b6-4a43-b3f8-2e80454d2124"
      },
      "outputs": [
        {
          "output_type": "stream",
          "name": "stderr",
          "text": [
            "Reading from file: 100%|██████████| 467119/467119 [00:07<00:00, 62274.43it/s]\n"
          ]
        }
      ],
      "source": [
        "if torch.cuda.is_available():\n",
        "    DEVICE = 'cuda'\n",
        "else:\n",
        "    DEVICE = 'cpu'\n",
        "    \n",
        "data_config = yaml.load(open(\"../configs/data_config.yaml\", 'r'), Loader=yaml.Loader)\n",
        "model_config = yaml.load(open(\"../configs/model_config.yaml\", 'r'), Loader=yaml.Loader)\n",
        "dm = DataManager(data_config, model_config)\n",
        "train_dataloader, val_dataloader = dm.prepare_data()"
      ]
    },
    {
      "cell_type": "code",
      "execution_count": 6,
      "id": "9bb61d18",
      "metadata": {
        "colab": {
          "base_uri": "https://localhost:8080/"
        },
        "id": "9bb61d18",
        "outputId": "cb0dae4f-a77a-46b3-b935-824e83cc4cdb"
      },
      "outputs": [
        {
          "output_type": "stream",
          "name": "stderr",
          "text": [
            "100%|██████████| 500/500 [40:56<00:00,  4.91s/it]"
          ]
        },
        {
          "output_type": "stream",
          "name": "stdout",
          "text": [
            "Last 499 epoch train loss:  0.017627154244109988\n",
            "Last 499 epoch val loss:  2.871693730354309\n",
            "Last 499 epoch val bleu:  0.25280854860239405\n"
          ]
        },
        {
          "output_type": "stream",
          "name": "stderr",
          "text": [
            "\n"
          ]
        }
      ],
      "source": [
        "model = Seq2SeqT5(model_config, \n",
        "                  device=DEVICE, \n",
        "                  tokenizer=dm.tokenizer)\n",
        "\n",
        "logger = TXTLogger('training_logs')\n",
        "trainer_cls = trainer.Trainer(model=model, model_config=model_config, logger=logger)\n",
        "\n",
        "trainer_cls.train(train_dataloader, val_dataloader)"
      ]
    },
    {
      "cell_type": "code",
      "source": [
        "trainer_cls.train(train_dataloader, val_dataloader)"
      ],
      "metadata": {
        "colab": {
          "base_uri": "https://localhost:8080/"
        },
        "id": "SwcoNJM_ZycO",
        "outputId": "c736e8e4-54d6-4c5c-a50a-e78762040510"
      },
      "id": "SwcoNJM_ZycO",
      "execution_count": 9,
      "outputs": [
        {
          "output_type": "stream",
          "name": "stderr",
          "text": [
            "100%|██████████| 500/500 [41:03<00:00,  4.93s/it]"
          ]
        },
        {
          "output_type": "stream",
          "name": "stdout",
          "text": [
            "Last 499 epoch train loss:  1.4516656696796417\n",
            "Last 499 epoch val loss:  1.6366457343101501\n",
            "Last 499 epoch val bleu:  0.04786694559580815\n"
          ]
        },
        {
          "output_type": "stream",
          "name": "stderr",
          "text": [
            "\n"
          ]
        }
      ]
    },
    {
      "cell_type": "code",
      "execution_count": 9,
      "id": "gG4FhQ7Kqt63",
      "metadata": {
        "colab": {
          "base_uri": "https://localhost:8080/"
        },
        "id": "gG4FhQ7Kqt63",
        "outputId": "eaf77b00-e736-4d6d-e16d-734a6ab8487d"
      },
      "outputs": [
        {
          "output_type": "stream",
          "name": "stdout",
          "text": [
            "{'model': 't5-small', 'token': 't5-small', 'embedding_size': 512, 'hidden_size': 512, 'learning_rate': 5e-05, 'epoch_num': 500}\n"
          ]
        }
      ],
      "source": [
        "import yaml\n",
        "\n",
        "with open('../configs/model_config.yaml', 'r') as model_config:\n",
        "    try:\n",
        "        print(yaml.safe_load(model_config))\n",
        "    except yaml.YAMLError as exc:\n",
        "        print(exc)"
      ]
    },
    {
      "cell_type": "code",
      "execution_count": 10,
      "id": "e4xcSLOIrI_C",
      "metadata": {
        "colab": {
          "base_uri": "https://localhost:8080/"
        },
        "id": "e4xcSLOIrI_C",
        "outputId": "6e23ca9d-72d8-4491-f93c-04a6305a62b5"
      },
      "outputs": [
        {
          "output_type": "stream",
          "name": "stdout",
          "text": [
            "{'prefix_filter': ['he is', 'he s ', 'she is', 'she s '], 'max_length': 15, 'filename': 'rus.txt', 'train_size': 0.8, 'batch_size': 128}\n"
          ]
        }
      ],
      "source": [
        "import yaml\n",
        "\n",
        "with open('../configs/data_config.yaml', 'r') as data_config:\n",
        "    try:\n",
        "        print(yaml.safe_load(data_config))\n",
        "    except yaml.YAMLError as exc:\n",
        "        print(exc)"
      ]
    },
    {
      "cell_type": "code",
      "execution_count": 7,
      "id": "jsM--O7LTA73",
      "metadata": {
        "colab": {
          "base_uri": "https://localhost:8080/"
        },
        "id": "jsM--O7LTA73",
        "outputId": "03a4d2c7-401f-4993-ba02-a18d84733e06"
      },
      "outputs": [
        {
          "output_type": "stream",
          "name": "stderr",
          "text": [
            "/usr/local/lib/python3.10/dist-packages/transformers/generation/utils.py:1346: UserWarning: Using `max_length`'s default (20) to control the generation length. This behaviour is deprecated and will be removed from the config in v5 of Transformers -- we recommend using `max_new_tokens` to control the maximum length of the generation.\n",
            "  warnings.warn(\n"
          ]
        },
        {
          "output_type": "execute_result",
          "data": {
            "text/plain": [
              "['он изз тот из',\n",
              " 'он тебя ас',\n",
              " 'он уж итель',\n",
              " 'онап ох актуаль',\n",
              " 'она люб ит матьч',\n",
              " 'и лучш ает и ск',\n",
              " 'он мужя ой нуж',\n",
              " 'онх орош ий в оч',\n",
              " 'теб ез делает',\n",
              " 'она делает свою дома']"
            ]
          },
          "metadata": {},
          "execution_count": 7
        }
      ],
      "source": [
        "model.predict(['Hi, my name is Ignat', \n",
        "               'How are you?', \n",
        "               'He is artist', \n",
        "               'She likes tea', \n",
        "               'I love mother', \n",
        "               'Cat and dog', \n",
        "               'Moscow is a capital of Russia', \n",
        "               'The weather is good', \n",
        "               'What are you doing?', \n",
        "               'She is doing her homework'])"
      ]
    },
    {
      "cell_type": "code",
      "source": [
        "import locale\n",
        "locale.getpreferredencoding = lambda: \"UTF-8\""
      ],
      "metadata": {
        "id": "6QMShS4UY6W4"
      },
      "id": "6QMShS4UY6W4",
      "execution_count": 11,
      "outputs": []
    },
    {
      "cell_type": "code",
      "execution_count": 11,
      "id": "_ohJpSHfrVeh",
      "metadata": {
        "colab": {
          "base_uri": "https://localhost:8080/"
        },
        "id": "_ohJpSHfrVeh",
        "outputId": "dcea2ea0-0a48-4920-8dee-5428414d73c6"
      },
      "outputs": [
        {
          "output_type": "stream",
          "name": "stdout",
          "text": [
            "source text:  I took it for granted that you were on our side.\n",
            "true target text:  Я считал само собой разумеющимся, что вы на нашей стороне.\n",
            "predicted target text:  он доч е нет до\n",
            "_________________________________________________\n",
            "source text:  Wait. I can't walk that fast.\n",
            "true target text:  Подожди. Я не могу идти так быстро.\n",
            "predicted target text:  он не такой оч ий\n",
            "_________________________________________________\n",
            "source text:  I hope you'll be happy forever.\n",
            "true target text:  Надеюсь, ты будешь счастлив всегда.\n",
            "predicted target text:  она для номной о\n",
            "_________________________________________________\n",
            "source text:  I don't think that Tom knows that I'm Canadian.\n",
            "true target text:  Не думаю, что Том знает, что я канадец.\n",
            "predicted target text:  у нег о тног о \n",
            "_________________________________________________\n",
            "source text:  I have bad news.\n",
            "true target text:  У меня плохие вести.\n",
            "predicted target text:  у нег о мнег ом\n",
            "_________________________________________________\n",
            "source text:  I want to thank you, Tom.\n",
            "true target text:  Я хочу поблагодарить вас, Том.\n",
            "predicted target text:  он мнег омной\n",
            "_________________________________________________\n",
            "source text:  You should've kept your mouth shut.\n",
            "true target text:  Лучше бы ты помалкивал.\n",
            "predicted target text:   не одный е нет\n",
            "_________________________________________________\n",
            "source text:  Tom and I sometimes sing together.\n",
            "true target text:  Мы с Томом иногда поём вместе.\n",
            "predicted target text:  Occasionally он мой ет иг е\n",
            "_________________________________________________\n",
            "source text:  You'll have to leave.\n",
            "true target text:  Тебе придётся уйти.\n",
            "predicted target text:  у не оч ень и\n",
            "_________________________________________________\n",
            "source text:  I just want to talk to you.\n",
            "true target text:  Я просто хочу с Вами поговорить.\n",
            "predicted target text:  онп родится тель \n",
            "_________________________________________________\n"
          ]
        }
      ],
      "source": [
        "import random\n",
        "\n",
        "source_text = []\n",
        "true_target_text = []\n",
        "predicted_target_text = []\n",
        "\n",
        "with open('./rus.txt') as file:\n",
        "    lines = [line.rstrip() for line in file]\n",
        "\n",
        "n = 10\n",
        "for i in range(n):\n",
        "    seq = random.choice(lines)\n",
        "    seq = seq.split('\\t')\n",
        "    source_text.append(seq[0])\n",
        "    true_target_text.append(seq[1])\n",
        "\n",
        "predicted_target_text = model.predict(source_text)\n",
        "\n",
        "for i in range(n):\n",
        "    print('source text: ', source_text[i])\n",
        "    print('true target text: ', true_target_text[i])\n",
        "    print('predicted target text: ', predicted_target_text[i])\n",
        "    print('_________________________________________________')"
      ]
    },
    {
      "cell_type": "code",
      "execution_count": 13,
      "id": "tVwVQUKzmuGs",
      "metadata": {
        "id": "tVwVQUKzmuGs"
      },
      "outputs": [],
      "source": [
        "import ast\n",
        "\n",
        "path_to_logs = './training_logs/progress_log.txt'\n",
        "train_loss = []\n",
        "val_loss = []\n",
        "bleu_score = []\n",
        "\n",
        "with open(path_to_logs) as file:\n",
        "    lines = [line.rstrip() for line in file]\n",
        "\n",
        "for i in range(1,len(lines)):\n",
        "    line_dict = ast.literal_eval(lines[i])\n",
        "    train_loss.append(line_dict['train_loss'])\n",
        "    val_loss.append(line_dict['val_loss'])\n",
        "    bleu_score.append(line_dict['bleu_score'])"
      ]
    },
    {
      "cell_type": "code",
      "execution_count": 14,
      "id": "qnVS3GjmlnDj",
      "metadata": {
        "colab": {
          "base_uri": "https://localhost:8080/",
          "height": 445
        },
        "id": "qnVS3GjmlnDj",
        "outputId": "bee5b0d5-5cc4-4a4d-c4e9-bcd1aa5be08b"
      },
      "outputs": [
        {
          "output_type": "display_data",
          "data": {
            "text/plain": [
              "<Figure size 1500x500 with 2 Axes>"
            ],
            "image/png": "[encoded data removed]"
          },
          "metadata": {}
        }
      ],
      "source": [
        "from matplotlib import pyplot as plt\n",
        "\n",
        "fig, ax = plt.subplots(nrows=1, ncols=2, figsize=(15, 5))\n",
        "\n",
        "ax[0].plot(train_loss, label='train loss')\n",
        "ax[0].plot(val_loss, label='val loss')\n",
        "ax[0].set_xlabel('Epoch')\n",
        "ax[0].set_title('Loss')\n",
        "\n",
        "ax[1].plot(bleu_score, label='bleu')\n",
        "ax[1].set_xlabel('Epoch')\n",
        "ax[1].set_title('BLEU')\n",
        "\n",
        "plt.legend()\n",
        "plt.show()"
      ]
    },
    {
      "cell_type": "code",
      "execution_count": null,
      "id": "bJc6S7J4qmC1",
      "metadata": {
        "id": "bJc6S7J4qmC1"
      },
      "outputs": [],
      "source": []
    }
  ],
  "metadata": {
    "accelerator": "GPU",
    "colab": {
      "gpuType": "T4",
      "machine_shape": "hm",
      "provenance": []
    },
    "gpuClass": "standard",
    "kernelspec": {
      "display_name": "Python 3 (ipykernel)",
      "language": "python",
      "name": "python3"
    },
    "language_info": {
      "codemirror_mode": {
        "name": "ipython",
        "version": 3
      },
      "file_extension": ".py",
      "mimetype": "text/x-python",
      "name": "python",
      "nbconvert_exporter": "python",
      "pygments_lexer": "ipython3",
      "version": "3.9.12"
    },
    "widgets": {
      "application/vnd.jupyter.widget-state+json": {
        "c00653d2d52b42f29551cfe615eb2276": {
          "model_module": "@jupyter-widgets/controls",
          "model_name": "VBoxModel",
          "model_module_version": "1.5.0",
          "state": {
            "_dom_classes": [],
            "_model_module": "@jupyter-widgets/controls",
            "_model_module_version": "1.5.0",
            "_model_name": "VBoxModel",
            "_view_count": null,
            "_view_module": "@jupyter-widgets/controls",
            "_view_module_version": "1.5.0",
            "_view_name": "VBoxView",
            "box_style": "",
            "children": [
              "IPY_MODEL_be6b12e7e9004d28b348d7f99afce696",
              "IPY_MODEL_afb1b8a97770450ab7b0c19bde67f2fb",
              "IPY_MODEL_007de1c7791249be86bf23b9ae42507e",
              "IPY_MODEL_68fff2eb116f41a1b0991f9af86272dc"
            ],
            "layout": "IPY_MODEL_09e0750cb3114e678ad9928163a9e9d7"
          }
        },
        "ee00ebc845f84573b1a72490aa5d9ac3": {
          "model_module": "@jupyter-widgets/controls",
          "model_name": "HTMLModel",
          "model_module_version": "1.5.0",
          "state": {
            "_dom_classes": [],
            "_model_module": "@jupyter-widgets/controls",
            "_model_module_version": "1.5.0",
            "_model_name": "HTMLModel",
            "_view_count": null,
            "_view_module": "@jupyter-widgets/controls",
            "_view_module_version": "1.5.0",
            "_view_name": "HTMLView",
            "description": "",
            "description_tooltip": null,
            "layout": "IPY_MODEL_468480e64c544d94abf02796d23902e1",
            "placeholder": "​",
            "style": "IPY_MODEL_23cf2954588a476e824549a023ead4c7",
            "value": "<center> <img\nsrc=https://huggingface.co/front/assets/huggingface_logo-noborder.svg\nalt='Hugging Face'> <br> Copy a token from <a\nhref=\"https://huggingface.co/settings/tokens\" target=\"_blank\">your Hugging Face\ntokens page</a> and paste it below. <br> Immediately click login after copying\nyour token or it might be stored in plain text in this notebook file. </center>"
          }
        },
        "cf9ad25810e840809d6b7680e772c410": {
          "model_module": "@jupyter-widgets/controls",
          "model_name": "PasswordModel",
          "model_module_version": "1.5.0",
          "state": {
            "_dom_classes": [],
            "_model_module": "@jupyter-widgets/controls",
            "_model_module_version": "1.5.0",
            "_model_name": "PasswordModel",
            "_view_count": null,
            "_view_module": "@jupyter-widgets/controls",
            "_view_module_version": "1.5.0",
            "_view_name": "PasswordView",
            "continuous_update": true,
            "description": "Token:",
            "description_tooltip": null,
            "disabled": false,
            "layout": "IPY_MODEL_f0e8dbbd6fea402297fd12261fa16883",
            "placeholder": "​",
            "style": "IPY_MODEL_f086d249c3af44e5be6effcce66c002f",
            "value": ""
          }
        },
        "f14012c84da6457aa930991bb593e895": {
          "model_module": "@jupyter-widgets/controls",
          "model_name": "CheckboxModel",
          "model_module_version": "1.5.0",
          "state": {
            "_dom_classes": [],
            "_model_module": "@jupyter-widgets/controls",
            "_model_module_version": "1.5.0",
            "_model_name": "CheckboxModel",
            "_view_count": null,
            "_view_module": "@jupyter-widgets/controls",
            "_view_module_version": "1.5.0",
            "_view_name": "CheckboxView",
            "description": "Add token as git credential?",
            "description_tooltip": null,
            "disabled": false,
            "indent": true,
            "layout": "IPY_MODEL_6f5965d248014d64bd920f37e26b1052",
            "style": "IPY_MODEL_9a2ff3a771624b2ab232bfdb316ff215",
            "value": true
          }
        },
        "9d54756d03264e5198da2530680ef606": {
          "model_module": "@jupyter-widgets/controls",
          "model_name": "ButtonModel",
          "model_module_version": "1.5.0",
          "state": {
            "_dom_classes": [],
            "_model_module": "@jupyter-widgets/controls",
            "_model_module_version": "1.5.0",
            "_model_name": "ButtonModel",
            "_view_count": null,
            "_view_module": "@jupyter-widgets/controls",
            "_view_module_version": "1.5.0",
            "_view_name": "ButtonView",
            "button_style": "",
            "description": "Login",
            "disabled": false,
            "icon": "",
            "layout": "IPY_MODEL_b9fb330cf3e64a358d791eb450f6e9ed",
            "style": "IPY_MODEL_adcd4a2138b04496abcc1f91564c2709",
            "tooltip": ""
          }
        },
        "0b9b33e8953947b8bec0382a912c9fa6": {
          "model_module": "@jupyter-widgets/controls",
          "model_name": "HTMLModel",
          "model_module_version": "1.5.0",
          "state": {
            "_dom_classes": [],
            "_model_module": "@jupyter-widgets/controls",
            "_model_module_version": "1.5.0",
            "_model_name": "HTMLModel",
            "_view_count": null,
            "_view_module": "@jupyter-widgets/controls",
            "_view_module_version": "1.5.0",
            "_view_name": "HTMLView",
            "description": "",
            "description_tooltip": null,
            "layout": "IPY_MODEL_8681caf1b2da4effa73b3582c3aac21d",
            "placeholder": "​",
            "style": "IPY_MODEL_c520b755812c4312acb9b5e6b771c9a1",
            "value": "\n<b>Pro Tip:</b> If you don't already have one, you can create a dedicated\n'notebooks' token with 'write' access, that you can then easily reuse for all\nnotebooks. </center>"
          }
        },
        "09e0750cb3114e678ad9928163a9e9d7": {
          "model_module": "@jupyter-widgets/base",
          "model_name": "LayoutModel",
          "model_module_version": "1.2.0",
          "state": {
            "_model_module": "@jupyter-widgets/base",
            "_model_module_version": "1.2.0",
            "_model_name": "LayoutModel",
            "_view_count": null,
            "_view_module": "@jupyter-widgets/base",
            "_view_module_version": "1.2.0",
            "_view_name": "LayoutView",
            "align_content": null,
            "align_items": "center",
            "align_self": null,
            "border": null,
            "bottom": null,
            "display": "flex",
            "flex": null,
            "flex_flow": "column",
            "grid_area": null,
            "grid_auto_columns": null,
            "grid_auto_flow": null,
            "grid_auto_rows": null,
            "grid_column": null,
            "grid_gap": null,
            "grid_row": null,
            "grid_template_areas": null,
            "grid_template_columns": null,
            "grid_template_rows": null,
            "height": null,
            "justify_content": null,
            "justify_items": null,
            "left": null,
            "margin": null,
            "max_height": null,
            "max_width": null,
            "min_height": null,
            "min_width": null,
            "object_fit": null,
            "object_position": null,
            "order": null,
            "overflow": null,
            "overflow_x": null,
            "overflow_y": null,
            "padding": null,
            "right": null,
            "top": null,
            "visibility": null,
            "width": "50%"
          }
        },
        "468480e64c544d94abf02796d23902e1": {
          "model_module": "@jupyter-widgets/base",
          "model_name": "LayoutModel",
          "model_module_version": "1.2.0",
          "state": {
            "_model_module": "@jupyter-widgets/base",
            "_model_module_version": "1.2.0",
            "_model_name": "LayoutModel",
            "_view_count": null,
            "_view_module": "@jupyter-widgets/base",
            "_view_module_version": "1.2.0",
            "_view_name": "LayoutView",
            "align_content": null,
            "align_items": null,
            "align_self": null,
            "border": null,
            "bottom": null,
            "display": null,
            "flex": null,
            "flex_flow": null,
            "grid_area": null,
            "grid_auto_columns": null,
            "grid_auto_flow": null,
            "grid_auto_rows": null,
            "grid_column": null,
            "grid_gap": null,
            "grid_row": null,
            "grid_template_areas": null,
            "grid_template_columns": null,
            "grid_template_rows": null,
            "height": null,
            "justify_content": null,
            "justify_items": null,
            "left": null,
            "margin": null,
            "max_height": null,
            "max_width": null,
            "min_height": null,
            "min_width": null,
            "object_fit": null,
            "object_position": null,
            "order": null,
            "overflow": null,
            "overflow_x": null,
            "overflow_y": null,
            "padding": null,
            "right": null,
            "top": null,
            "visibility": null,
            "width": null
          }
        },
        "23cf2954588a476e824549a023ead4c7": {
          "model_module": "@jupyter-widgets/controls",
          "model_name": "DescriptionStyleModel",
          "model_module_version": "1.5.0",
          "state": {
            "_model_module": "@jupyter-widgets/controls",
            "_model_module_version": "1.5.0",
            "_model_name": "DescriptionStyleModel",
            "_view_count": null,
            "_view_module": "@jupyter-widgets/base",
            "_view_module_version": "1.2.0",
            "_view_name": "StyleView",
            "description_width": ""
          }
        },
        "f0e8dbbd6fea402297fd12261fa16883": {
          "model_module": "@jupyter-widgets/base",
          "model_name": "LayoutModel",
          "model_module_version": "1.2.0",
          "state": {
            "_model_module": "@jupyter-widgets/base",
            "_model_module_version": "1.2.0",
            "_model_name": "LayoutModel",
            "_view_count": null,
            "_view_module": "@jupyter-widgets/base",
            "_view_module_version": "1.2.0",
            "_view_name": "LayoutView",
            "align_content": null,
            "align_items": null,
            "align_self": null,
            "border": null,
            "bottom": null,
            "display": null,
            "flex": null,
            "flex_flow": null,
            "grid_area": null,
            "grid_auto_columns": null,
            "grid_auto_flow": null,
            "grid_auto_rows": null,
            "grid_column": null,
            "grid_gap": null,
            "grid_row": null,
            "grid_template_areas": null,
            "grid_template_columns": null,
            "grid_template_rows": null,
            "height": null,
            "justify_content": null,
            "justify_items": null,
            "left": null,
            "margin": null,
            "max_height": null,
            "max_width": null,
            "min_height": null,
            "min_width": null,
            "object_fit": null,
            "object_position": null,
            "order": null,
            "overflow": null,
            "overflow_x": null,
            "overflow_y": null,
            "padding": null,
            "right": null,
            "top": null,
            "visibility": null,
            "width": null
          }
        },
        "f086d249c3af44e5be6effcce66c002f": {
          "model_module": "@jupyter-widgets/controls",
          "model_name": "DescriptionStyleModel",
          "model_module_version": "1.5.0",
          "state": {
            "_model_module": "@jupyter-widgets/controls",
            "_model_module_version": "1.5.0",
            "_model_name": "DescriptionStyleModel",
            "_view_count": null,
            "_view_module": "@jupyter-widgets/base",
            "_view_module_version": "1.2.0",
            "_view_name": "StyleView",
            "description_width": ""
          }
        },
        "6f5965d248014d64bd920f37e26b1052": {
          "model_module": "@jupyter-widgets/base",
          "model_name": "LayoutModel",
          "model_module_version": "1.2.0",
          "state": {
            "_model_module": "@jupyter-widgets/base",
            "_model_module_version": "1.2.0",
            "_model_name": "LayoutModel",
            "_view_count": null,
            "_view_module": "@jupyter-widgets/base",
            "_view_module_version": "1.2.0",
            "_view_name": "LayoutView",
            "align_content": null,
            "align_items": null,
            "align_self": null,
            "border": null,
            "bottom": null,
            "display": null,
            "flex": null,
            "flex_flow": null,
            "grid_area": null,
            "grid_auto_columns": null,
            "grid_auto_flow": null,
            "grid_auto_rows": null,
            "grid_column": null,
            "grid_gap": null,
            "grid_row": null,
            "grid_template_areas": null,
            "grid_template_columns": null,
            "grid_template_rows": null,
            "height": null,
            "justify_content": null,
            "justify_items": null,
            "left": null,
            "margin": null,
            "max_height": null,
            "max_width": null,
            "min_height": null,
            "min_width": null,
            "object_fit": null,
            "object_position": null,
            "order": null,
            "overflow": null,
            "overflow_x": null,
            "overflow_y": null,
            "padding": null,
            "right": null,
            "top": null,
            "visibility": null,
            "width": null
          }
        },
        "9a2ff3a771624b2ab232bfdb316ff215": {
          "model_module": "@jupyter-widgets/controls",
          "model_name": "DescriptionStyleModel",
          "model_module_version": "1.5.0",
          "state": {
            "_model_module": "@jupyter-widgets/controls",
            "_model_module_version": "1.5.0",
            "_model_name": "DescriptionStyleModel",
            "_view_count": null,
            "_view_module": "@jupyter-widgets/base",
            "_view_module_version": "1.2.0",
            "_view_name": "StyleView",
            "description_width": ""
          }
        },
        "b9fb330cf3e64a358d791eb450f6e9ed": {
          "model_module": "@jupyter-widgets/base",
          "model_name": "LayoutModel",
          "model_module_version": "1.2.0",
          "state": {
            "_model_module": "@jupyter-widgets/base",
            "_model_module_version": "1.2.0",
            "_model_name": "LayoutModel",
            "_view_count": null,
            "_view_module": "@jupyter-widgets/base",
            "_view_module_version": "1.2.0",
            "_view_name": "LayoutView",
            "align_content": null,
            "align_items": null,
            "align_self": null,
            "border": null,
            "bottom": null,
            "display": null,
            "flex": null,
            "flex_flow": null,
            "grid_area": null,
            "grid_auto_columns": null,
            "grid_auto_flow": null,
            "grid_auto_rows": null,
            "grid_column": null,
            "grid_gap": null,
            "grid_row": null,
            "grid_template_areas": null,
            "grid_template_columns": null,
            "grid_template_rows": null,
            "height": null,
            "justify_content": null,
            "justify_items": null,
            "left": null,
            "margin": null,
            "max_height": null,
            "max_width": null,
            "min_height": null,
            "min_width": null,
            "object_fit": null,
            "object_position": null,
            "order": null,
            "overflow": null,
            "overflow_x": null,
            "overflow_y": null,
            "padding": null,
            "right": null,
            "top": null,
            "visibility": null,
            "width": null
          }
        },
        "adcd4a2138b04496abcc1f91564c2709": {
          "model_module": "@jupyter-widgets/controls",
          "model_name": "ButtonStyleModel",
          "model_module_version": "1.5.0",
          "state": {
            "_model_module": "@jupyter-widgets/controls",
            "_model_module_version": "1.5.0",
            "_model_name": "ButtonStyleModel",
            "_view_count": null,
            "_view_module": "@jupyter-widgets/base",
            "_view_module_version": "1.2.0",
            "_view_name": "StyleView",
            "button_color": null,
            "font_weight": ""
          }
        },
        "8681caf1b2da4effa73b3582c3aac21d": {
          "model_module": "@jupyter-widgets/base",
          "model_name": "LayoutModel",
          "model_module_version": "1.2.0",
          "state": {
            "_model_module": "@jupyter-widgets/base",
            "_model_module_version": "1.2.0",
            "_model_name": "LayoutModel",
            "_view_count": null,
            "_view_module": "@jupyter-widgets/base",
            "_view_module_version": "1.2.0",
            "_view_name": "LayoutView",
            "align_content": null,
            "align_items": null,
            "align_self": null,
            "border": null,
            "bottom": null,
            "display": null,
            "flex": null,
            "flex_flow": null,
            "grid_area": null,
            "grid_auto_columns": null,
            "grid_auto_flow": null,
            "grid_auto_rows": null,
            "grid_column": null,
            "grid_gap": null,
            "grid_row": null,
            "grid_template_areas": null,
            "grid_template_columns": null,
            "grid_template_rows": null,
            "height": null,
            "justify_content": null,
            "justify_items": null,
            "left": null,
            "margin": null,
            "max_height": null,
            "max_width": null,
            "min_height": null,
            "min_width": null,
            "object_fit": null,
            "object_position": null,
            "order": null,
            "overflow": null,
            "overflow_x": null,
            "overflow_y": null,
            "padding": null,
            "right": null,
            "top": null,
            "visibility": null,
            "width": null
          }
        },
        "c520b755812c4312acb9b5e6b771c9a1": {
          "model_module": "@jupyter-widgets/controls",
          "model_name": "DescriptionStyleModel",
          "model_module_version": "1.5.0",
          "state": {
            "_model_module": "@jupyter-widgets/controls",
            "_model_module_version": "1.5.0",
            "_model_name": "DescriptionStyleModel",
            "_view_count": null,
            "_view_module": "@jupyter-widgets/base",
            "_view_module_version": "1.2.0",
            "_view_name": "StyleView",
            "description_width": ""
          }
        },
        "1728ea7a6a304fa6a69d9ee3d70ae5e9": {
          "model_module": "@jupyter-widgets/controls",
          "model_name": "LabelModel",
          "model_module_version": "1.5.0",
          "state": {
            "_dom_classes": [],
            "_model_module": "@jupyter-widgets/controls",
            "_model_module_version": "1.5.0",
            "_model_name": "LabelModel",
            "_view_count": null,
            "_view_module": "@jupyter-widgets/controls",
            "_view_module_version": "1.5.0",
            "_view_name": "LabelView",
            "description": "",
            "description_tooltip": null,
            "layout": "IPY_MODEL_c18558cd398b455dbabfbaf50de6e40a",
            "placeholder": "​",
            "style": "IPY_MODEL_abae6fdd873140bdb00d6d794da501b3",
            "value": "Connecting..."
          }
        },
        "c18558cd398b455dbabfbaf50de6e40a": {
          "model_module": "@jupyter-widgets/base",
          "model_name": "LayoutModel",
          "model_module_version": "1.2.0",
          "state": {
            "_model_module": "@jupyter-widgets/base",
            "_model_module_version": "1.2.0",
            "_model_name": "LayoutModel",
            "_view_count": null,
            "_view_module": "@jupyter-widgets/base",
            "_view_module_version": "1.2.0",
            "_view_name": "LayoutView",
            "align_content": null,
            "align_items": null,
            "align_self": null,
            "border": null,
            "bottom": null,
            "display": null,
            "flex": null,
            "flex_flow": null,
            "grid_area": null,
            "grid_auto_columns": null,
            "grid_auto_flow": null,
            "grid_auto_rows": null,
            "grid_column": null,
            "grid_gap": null,
            "grid_row": null,
            "grid_template_areas": null,
            "grid_template_columns": null,
            "grid_template_rows": null,
            "height": null,
            "justify_content": null,
            "justify_items": null,
            "left": null,
            "margin": null,
            "max_height": null,
            "max_width": null,
            "min_height": null,
            "min_width": null,
            "object_fit": null,
            "object_position": null,
            "order": null,
            "overflow": null,
            "overflow_x": null,
            "overflow_y": null,
            "padding": null,
            "right": null,
            "top": null,
            "visibility": null,
            "width": null
          }
        },
        "abae6fdd873140bdb00d6d794da501b3": {
          "model_module": "@jupyter-widgets/controls",
          "model_name": "DescriptionStyleModel",
          "model_module_version": "1.5.0",
          "state": {
            "_model_module": "@jupyter-widgets/controls",
            "_model_module_version": "1.5.0",
            "_model_name": "DescriptionStyleModel",
            "_view_count": null,
            "_view_module": "@jupyter-widgets/base",
            "_view_module_version": "1.2.0",
            "_view_name": "StyleView",
            "description_width": ""
          }
        },
        "be6b12e7e9004d28b348d7f99afce696": {
          "model_module": "@jupyter-widgets/controls",
          "model_name": "LabelModel",
          "model_module_version": "1.5.0",
          "state": {
            "_dom_classes": [],
            "_model_module": "@jupyter-widgets/controls",
            "_model_module_version": "1.5.0",
            "_model_name": "LabelModel",
            "_view_count": null,
            "_view_module": "@jupyter-widgets/controls",
            "_view_module_version": "1.5.0",
            "_view_name": "LabelView",
            "description": "",
            "description_tooltip": null,
            "layout": "IPY_MODEL_31b183c5a97243be937db4865fcd796c",
            "placeholder": "​",
            "style": "IPY_MODEL_d331461bd8bb46f3b12799fc21eece6b",
            "value": "Token is valid."
          }
        },
        "afb1b8a97770450ab7b0c19bde67f2fb": {
          "model_module": "@jupyter-widgets/controls",
          "model_name": "LabelModel",
          "model_module_version": "1.5.0",
          "state": {
            "_dom_classes": [],
            "_model_module": "@jupyter-widgets/controls",
            "_model_module_version": "1.5.0",
            "_model_name": "LabelModel",
            "_view_count": null,
            "_view_module": "@jupyter-widgets/controls",
            "_view_module_version": "1.5.0",
            "_view_name": "LabelView",
            "description": "",
            "description_tooltip": null,
            "layout": "IPY_MODEL_5da5d222e7d34e2c9a224b68a77f77d3",
            "placeholder": "​",
            "style": "IPY_MODEL_2fcb22a90b6245dcb06f8019b7afbeab",
            "value": "Your token has been saved in your configured git credential helpers (store)."
          }
        },
        "007de1c7791249be86bf23b9ae42507e": {
          "model_module": "@jupyter-widgets/controls",
          "model_name": "LabelModel",
          "model_module_version": "1.5.0",
          "state": {
            "_dom_classes": [],
            "_model_module": "@jupyter-widgets/controls",
            "_model_module_version": "1.5.0",
            "_model_name": "LabelModel",
            "_view_count": null,
            "_view_module": "@jupyter-widgets/controls",
            "_view_module_version": "1.5.0",
            "_view_name": "LabelView",
            "description": "",
            "description_tooltip": null,
            "layout": "IPY_MODEL_b6077d98fe154eb0b0d8e2e80c29c2f7",
            "placeholder": "​",
            "style": "IPY_MODEL_e73da1a6af344713b40e3fb227b9c949",
            "value": "Your token has been saved to /root/.cache/huggingface/token"
          }
        },
        "68fff2eb116f41a1b0991f9af86272dc": {
          "model_module": "@jupyter-widgets/controls",
          "model_name": "LabelModel",
          "model_module_version": "1.5.0",
          "state": {
            "_dom_classes": [],
            "_model_module": "@jupyter-widgets/controls",
            "_model_module_version": "1.5.0",
            "_model_name": "LabelModel",
            "_view_count": null,
            "_view_module": "@jupyter-widgets/controls",
            "_view_module_version": "1.5.0",
            "_view_name": "LabelView",
            "description": "",
            "description_tooltip": null,
            "layout": "IPY_MODEL_2d28eb250d8840929b9f1fbb422cd435",
            "placeholder": "​",
            "style": "IPY_MODEL_76a377c79a92424e910ae0ad87da5090",
            "value": "Login successful"
          }
        },
        "31b183c5a97243be937db4865fcd796c": {
          "model_module": "@jupyter-widgets/base",
          "model_name": "LayoutModel",
          "model_module_version": "1.2.0",
          "state": {
            "_model_module": "@jupyter-widgets/base",
            "_model_module_version": "1.2.0",
            "_model_name": "LayoutModel",
            "_view_count": null,
            "_view_module": "@jupyter-widgets/base",
            "_view_module_version": "1.2.0",
            "_view_name": "LayoutView",
            "align_content": null,
            "align_items": null,
            "align_self": null,
            "border": null,
            "bottom": null,
            "display": null,
            "flex": null,
            "flex_flow": null,
            "grid_area": null,
            "grid_auto_columns": null,
            "grid_auto_flow": null,
            "grid_auto_rows": null,
            "grid_column": null,
            "grid_gap": null,
            "grid_row": null,
            "grid_template_areas": null,
            "grid_template_columns": null,
            "grid_template_rows": null,
            "height": null,
            "justify_content": null,
            "justify_items": null,
            "left": null,
            "margin": null,
            "max_height": null,
            "max_width": null,
            "min_height": null,
            "min_width": null,
            "object_fit": null,
            "object_position": null,
            "order": null,
            "overflow": null,
            "overflow_x": null,
            "overflow_y": null,
            "padding": null,
            "right": null,
            "top": null,
            "visibility": null,
            "width": null
          }
        },
        "d331461bd8bb46f3b12799fc21eece6b": {
          "model_module": "@jupyter-widgets/controls",
          "model_name": "DescriptionStyleModel",
          "model_module_version": "1.5.0",
          "state": {
            "_model_module": "@jupyter-widgets/controls",
            "_model_module_version": "1.5.0",
            "_model_name": "DescriptionStyleModel",
            "_view_count": null,
            "_view_module": "@jupyter-widgets/base",
            "_view_module_version": "1.2.0",
            "_view_name": "StyleView",
            "description_width": ""
          }
        },
        "5da5d222e7d34e2c9a224b68a77f77d3": {
          "model_module": "@jupyter-widgets/base",
          "model_name": "LayoutModel",
          "model_module_version": "1.2.0",
          "state": {
            "_model_module": "@jupyter-widgets/base",
            "_model_module_version": "1.2.0",
            "_model_name": "LayoutModel",
            "_view_count": null,
            "_view_module": "@jupyter-widgets/base",
            "_view_module_version": "1.2.0",
            "_view_name": "LayoutView",
            "align_content": null,
            "align_items": null,
            "align_self": null,
            "border": null,
            "bottom": null,
            "display": null,
            "flex": null,
            "flex_flow": null,
            "grid_area": null,
            "grid_auto_columns": null,
            "grid_auto_flow": null,
            "grid_auto_rows": null,
            "grid_column": null,
            "grid_gap": null,
            "grid_row": null,
            "grid_template_areas": null,
            "grid_template_columns": null,
            "grid_template_rows": null,
            "height": null,
            "justify_content": null,
            "justify_items": null,
            "left": null,
            "margin": null,
            "max_height": null,
            "max_width": null,
            "min_height": null,
            "min_width": null,
            "object_fit": null,
            "object_position": null,
            "order": null,
            "overflow": null,
            "overflow_x": null,
            "overflow_y": null,
            "padding": null,
            "right": null,
            "top": null,
            "visibility": null,
            "width": null
          }
        },
        "2fcb22a90b6245dcb06f8019b7afbeab": {
          "model_module": "@jupyter-widgets/controls",
          "model_name": "DescriptionStyleModel",
          "model_module_version": "1.5.0",
          "state": {
            "_model_module": "@jupyter-widgets/controls",
            "_model_module_version": "1.5.0",
            "_model_name": "DescriptionStyleModel",
            "_view_count": null,
            "_view_module": "@jupyter-widgets/base",
            "_view_module_version": "1.2.0",
            "_view_name": "StyleView",
            "description_width": ""
          }
        },
        "b6077d98fe154eb0b0d8e2e80c29c2f7": {
          "model_module": "@jupyter-widgets/base",
          "model_name": "LayoutModel",
          "model_module_version": "1.2.0",
          "state": {
            "_model_module": "@jupyter-widgets/base",
            "_model_module_version": "1.2.0",
            "_model_name": "LayoutModel",
            "_view_count": null,
            "_view_module": "@jupyter-widgets/base",
            "_view_module_version": "1.2.0",
            "_view_name": "LayoutView",
            "align_content": null,
            "align_items": null,
            "align_self": null,
            "border": null,
            "bottom": null,
            "display": null,
            "flex": null,
            "flex_flow": null,
            "grid_area": null,
            "grid_auto_columns": null,
            "grid_auto_flow": null,
            "grid_auto_rows": null,
            "grid_column": null,
            "grid_gap": null,
            "grid_row": null,
            "grid_template_areas": null,
            "grid_template_columns": null,
            "grid_template_rows": null,
            "height": null,
            "justify_content": null,
            "justify_items": null,
            "left": null,
            "margin": null,
            "max_height": null,
            "max_width": null,
            "min_height": null,
            "min_width": null,
            "object_fit": null,
            "object_position": null,
            "order": null,
            "overflow": null,
            "overflow_x": null,
            "overflow_y": null,
            "padding": null,
            "right": null,
            "top": null,
            "visibility": null,
            "width": null
          }
        },
        "e73da1a6af344713b40e3fb227b9c949": {
          "model_module": "@jupyter-widgets/controls",
          "model_name": "DescriptionStyleModel",
          "model_module_version": "1.5.0",
          "state": {
            "_model_module": "@jupyter-widgets/controls",
            "_model_module_version": "1.5.0",
            "_model_name": "DescriptionStyleModel",
            "_view_count": null,
            "_view_module": "@jupyter-widgets/base",
            "_view_module_version": "1.2.0",
            "_view_name": "StyleView",
            "description_width": ""
          }
        },
        "2d28eb250d8840929b9f1fbb422cd435": {
          "model_module": "@jupyter-widgets/base",
          "model_name": "LayoutModel",
          "model_module_version": "1.2.0",
          "state": {
            "_model_module": "@jupyter-widgets/base",
            "_model_module_version": "1.2.0",
            "_model_name": "LayoutModel",
            "_view_count": null,
            "_view_module": "@jupyter-widgets/base",
            "_view_module_version": "1.2.0",
            "_view_name": "LayoutView",
            "align_content": null,
            "align_items": null,
            "align_self": null,
            "border": null,
            "bottom": null,
            "display": null,
            "flex": null,
            "flex_flow": null,
            "grid_area": null,
            "grid_auto_columns": null,
            "grid_auto_flow": null,
            "grid_auto_rows": null,
            "grid_column": null,
            "grid_gap": null,
            "grid_row": null,
            "grid_template_areas": null,
            "grid_template_columns": null,
            "grid_template_rows": null,
            "height": null,
            "justify_content": null,
            "justify_items": null,
            "left": null,
            "margin": null,
            "max_height": null,
            "max_width": null,
            "min_height": null,
            "min_width": null,
            "object_fit": null,
            "object_position": null,
            "order": null,
            "overflow": null,
            "overflow_x": null,
            "overflow_y": null,
            "padding": null,
            "right": null,
            "top": null,
            "visibility": null,
            "width": null
          }
        },
        "76a377c79a92424e910ae0ad87da5090": {
          "model_module": "@jupyter-widgets/controls",
          "model_name": "DescriptionStyleModel",
          "model_module_version": "1.5.0",
          "state": {
            "_model_module": "@jupyter-widgets/controls",
            "_model_module_version": "1.5.0",
            "_model_name": "DescriptionStyleModel",
            "_view_count": null,
            "_view_module": "@jupyter-widgets/base",
            "_view_module_version": "1.2.0",
            "_view_name": "StyleView",
            "description_width": ""
          }
        }
      }
    }
  },
  "nbformat": 4,
  "nbformat_minor": 5
}