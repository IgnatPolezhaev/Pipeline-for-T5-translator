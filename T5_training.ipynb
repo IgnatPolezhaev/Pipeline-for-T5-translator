{
  "cells": [
    {
      "cell_type": "code",
      "execution_count": 3,
      "id": "3dea576a",
      "metadata": {
        "colab": {
          "base_uri": "https://localhost:8080/"
        },
        "id": "3dea576a",
        "outputId": "24775085-93e7-41d7-b4fc-bfaffdabd50b"
      },
      "outputs": [
        {
          "name": "stdout",
          "output_type": "stream",
          "text": [
            "/content/src\n"
          ]
        }
      ],
      "source": [
        "%cd src"
      ]
    },
    {
      "attachments": {},
      "cell_type": "markdown",
      "id": "dbca1e62-b210-4426-9854-55b652417a4b",
      "metadata": {
        "id": "dbca1e62-b210-4426-9854-55b652417a4b"
      },
      "source": [
        "### Reading data\n",
        "\n",
        "`\n",
        "wget https://www.manythings.org/anki/rus-eng.zip && unzip rus-eng.zip\n",
        "`\n",
        "\n",
        "This link will download the data: source text in English, target text in Russian\n",
        "\n",
        "We will train the model on the task of translating from English to Russian."
      ]
    },
    {
      "cell_type": "code",
      "execution_count": null,
      "id": "710e84de-f7a4-46da-a611-74c90a67e24b",
      "metadata": {
        "colab": {
          "base_uri": "https://localhost:8080/"
        },
        "id": "710e84de-f7a4-46da-a611-74c90a67e24b",
        "outputId": "c32279a8-55ac-49ee-b6c1-177faaf4ce64"
      },
      "outputs": [
        {
          "name": "stdout",
          "output_type": "stream",
          "text": [
            "--2023-05-19 16:59:53--  https://www.manythings.org/anki/rus-eng.zip\n",
            "Resolving www.manythings.org (www.manythings.org)... 173.254.30.110\n",
            "Connecting to www.manythings.org (www.manythings.org)|173.254.30.110|:443... connected.\n",
            "HTTP request sent, awaiting response... 200 OK\n",
            "Length: 15460248 (15M) [application/zip]\n",
            "Saving to: ‘rus-eng.zip.2’\n",
            "\n",
            "rus-eng.zip.2       100%[===================>]  14.74M  43.0MB/s    in 0.3s    \n",
            "\n",
            "2023-05-19 16:59:54 (43.0 MB/s) - ‘rus-eng.zip.2’ saved [15460248/15460248]\n",
            "\n",
            "Archive:  rus-eng.zip\n",
            "replace rus.txt? [y]es, [n]o, [A]ll, [N]one, [r]ename: y\n",
            "  inflating: rus.txt                 \n",
            "replace _about.txt? [y]es, [n]o, [A]ll, [N]one, [r]ename: y\n",
            "  inflating: _about.txt              \n"
          ]
        }
      ],
      "source": [
        "!wget https://www.manythings.org/anki/rus-eng.zip && unzip rus-eng.zip"
      ]
    },
    {
      "attachments": {},
      "cell_type": "markdown",
      "id": "22739f74",
      "metadata": {},
      "source": [
        "### Import libraries"
      ]
    },
    {
      "cell_type": "code",
      "execution_count": 3,
      "id": "c747a0e4",
      "metadata": {
        "id": "c747a0e4"
      },
      "outputs": [],
      "source": [
        "import torch\n",
        "import yaml\n",
        "import numpy as np\n",
        "from models import trainer\n",
        "from data.datamodule_t5 import DataManager\n",
        "from txt_logger import TXTLogger\n",
        "from data.tokenizer_t5 import T5Tokenizer\n",
        "from models.seq2seq_t5 import Seq2SeqT5"
      ]
    },
    {
      "attachments": {},
      "cell_type": "markdown",
      "id": "82a9fc4b",
      "metadata": {},
      "source": [
        "### Data preparation"
      ]
    },
    {
      "cell_type": "code",
      "execution_count": 4,
      "id": "420a17f2",
      "metadata": {
        "colab": {
          "base_uri": "https://localhost:8080/"
        },
        "id": "420a17f2",
        "outputId": "c7423792-f0d4-40c4-cfdf-42fa21a8c177"
      },
      "outputs": [
        {
          "name": "stderr",
          "output_type": "stream",
          "text": [
            "Reading from file: 100%|██████████| 467119/467119 [00:06<00:00, 76307.90it/s]\n"
          ]
        }
      ],
      "source": [
        "if torch.cuda.is_available():\n",
        "    DEVICE = 'cuda'\n",
        "else:\n",
        "    DEVICE = 'cpu'\n",
        "    \n",
        "data_config = yaml.load(open(\"../configs/data_config.yaml\", 'r'), Loader=yaml.Loader)\n",
        "model_config = yaml.load(open(\"../configs/model_config.yaml\", 'r'), Loader=yaml.Loader)\n",
        "dm = DataManager(data_config, model_config)\n",
        "train_dataloader, val_dataloader = dm.prepare_data()"
      ]
    },
    {
      "attachments": {},
      "cell_type": "markdown",
      "id": "7c51896d",
      "metadata": {},
      "source": [
        "### Initializing the model and training"
      ]
    },
    {
      "cell_type": "code",
      "execution_count": 5,
      "id": "9bb61d18",
      "metadata": {
        "colab": {
          "base_uri": "https://localhost:8080/"
        },
        "id": "9bb61d18",
        "outputId": "5c77f452-2565-4b15-90aa-2afc488ab550"
      },
      "outputs": [
        {
          "name": "stderr",
          "output_type": "stream",
          "text": [
            "100%|██████████| 100/100 [08:18<00:00,  4.99s/it]"
          ]
        },
        {
          "name": "stdout",
          "output_type": "stream",
          "text": [
            "Last 99 epoch train loss:  0.036508852848783135\n",
            "Last 99 epoch val loss:  2.2318729162216187\n",
            "Last 99 epoch val bleu:  0.23333869695206028\n"
          ]
        },
        {
          "name": "stderr",
          "output_type": "stream",
          "text": [
            "\n"
          ]
        }
      ],
      "source": [
        "model = Seq2SeqT5(model_config, \n",
        "                  device=DEVICE, \n",
        "                  target_tokenizer=dm.target_tokenizer, \n",
        "                  source_tokenizer=dm.source_tokenizer)\n",
        "\n",
        "logger = TXTLogger('training_logs')\n",
        "trainer_cls = trainer.Trainer(model=model, model_config=model_config, logger=logger)\n",
        "\n",
        "trainer_cls.train(train_dataloader, val_dataloader)"
      ]
    },
    {
      "attachments": {},
      "cell_type": "markdown",
      "id": "578d9724",
      "metadata": {},
      "source": [
        "### Training parameters"
      ]
    },
    {
      "cell_type": "code",
      "execution_count": 32,
      "id": "gG4FhQ7Kqt63",
      "metadata": {
        "colab": {
          "base_uri": "https://localhost:8080/"
        },
        "id": "gG4FhQ7Kqt63",
        "outputId": "ffef4771-4d75-4b4e-c27a-9b5ad4b6e70c"
      },
      "outputs": [
        {
          "name": "stdout",
          "output_type": "stream",
          "text": [
            "{'model': 't5-small', 'token': 't5-small', 'embedding_size': 512, 'hidden_size': 512, 'learning_rate': 0.001, 'epoch_num': 100}\n"
          ]
        }
      ],
      "source": [
        "import yaml\n",
        "\n",
        "with open('../configs/model_config.yaml', 'r') as model_config:\n",
        "    try:\n",
        "        print(yaml.safe_load(model_config))\n",
        "    except yaml.YAMLError as exc:\n",
        "        print(exc)"
      ]
    },
    {
      "cell_type": "code",
      "execution_count": 33,
      "id": "e4xcSLOIrI_C",
      "metadata": {
        "colab": {
          "base_uri": "https://localhost:8080/"
        },
        "id": "e4xcSLOIrI_C",
        "outputId": "3ba5682d-2c7b-4540-d43e-97faee52ce68"
      },
      "outputs": [
        {
          "name": "stdout",
          "output_type": "stream",
          "text": [
            "{'prefix_filter': ['he is', 'he s ', 'she is', 'she s '], 'max_length': 15, 'filename': 'rus.txt', 'train_size': 0.8, 'batch_size': 128}\n"
          ]
        }
      ],
      "source": [
        "import yaml\n",
        "\n",
        "with open('../configs/data_config.yaml', 'r') as data_config:\n",
        "    try:\n",
        "        print(yaml.safe_load(data_config))\n",
        "    except yaml.YAMLError as exc:\n",
        "        print(exc)"
      ]
    },
    {
      "attachments": {},
      "cell_type": "markdown",
      "id": "e9ca825b",
      "metadata": {},
      "source": [
        "### Translation examples"
      ]
    },
    {
      "cell_type": "code",
      "execution_count": 7,
      "id": "jsM--O7LTA73",
      "metadata": {
        "colab": {
          "base_uri": "https://localhost:8080/"
        },
        "id": "jsM--O7LTA73",
        "outputId": "16375b88-983e-49ec-ab75-2e432aa98577"
      },
      "outputs": [
        {
          "data": {
            "text/plain": [
              "['то мо ависит',\n",
              " 'то те а тее',\n",
              " 'он удунк',\n",
              " 'она лит еу',\n",
              " 'он ли муа',\n",
              " 'а кое и сука',\n",
              " 'Mosа одес л',\n",
              " 'он орои вес',\n",
              " 'то тее а те',\n",
              " 'она делает сво дома']"
            ]
          },
          "execution_count": 7,
          "metadata": {},
          "output_type": "execute_result"
        }
      ],
      "source": [
        "model.predict(['Hi, my name is Ignat', \n",
        "               'How are you?', \n",
        "               'He is artist', \n",
        "               'She likes tea', \n",
        "               'I love mother', \n",
        "               'Cat and dog', \n",
        "               'Moscow is a capital of Russia', \n",
        "               'The weather is good', \n",
        "               'What are you doing?', \n",
        "               'She is doing her homework'])"
      ]
    },
    {
      "cell_type": "code",
      "execution_count": 44,
      "id": "_ohJpSHfrVeh",
      "metadata": {
        "colab": {
          "base_uri": "https://localhost:8080/"
        },
        "id": "_ohJpSHfrVeh",
        "outputId": "599f61bd-b5d7-4fa6-ed07-89de62c16f4c"
      },
      "outputs": [
        {
          "name": "stdout",
          "output_type": "stream",
          "text": [
            "source text:  Every morning she gets up early because she has to cook.\n",
            "true target text:  Каждое утро она встаёт рано, потому что нужно стряпать.\n",
            "predicted target text:  о весма она рано в\n",
            "_________________________________________________\n",
            "source text:  Don't tell anyone about this.\n",
            "true target text:  Никому про это не говорите.\n",
            "predicted target text:  то не луаетс\n",
            "_________________________________________________\n",
            "source text:  Even the dog ran away.\n",
            "true target text:  Даже собака убежала.\n",
            "predicted target text:  то не е ума\n",
            "_________________________________________________\n",
            "source text:  Do you go to school by train?\n",
            "true target text:  Ты ездишь в школу на поезде?\n",
            "predicted target text:  то ео колене\n",
            "_________________________________________________\n",
            "source text:  You can count on her.\n",
            "true target text:  Вы можете на неё положиться.\n",
            "predicted target text:  о моет е на \n",
            "_________________________________________________\n",
            "source text:  I'm sorry I wasn't able to help you.\n",
            "true target text:  Простите, что не смог вам помочь.\n",
            "predicted target text:  то олно то не \n",
            "_________________________________________________\n",
            "source text:  Do you want a chocolate bar?\n",
            "true target text:  Хочешь шоколадку?\n",
            "predicted target text:  то уас елу\n",
            "_________________________________________________\n",
            "source text:  Tom is just pretending he can't understand French.\n",
            "true target text:  Том только притворяется, что не понимает по-французски.\n",
            "predicted target text:  он росто то  не\n",
            "_________________________________________________\n",
            "source text:  We were best friends.\n",
            "true target text:  Мы были лучшими подругами.\n",
            "predicted target text:  он луи друми\n",
            "_________________________________________________\n",
            "source text:  May I ask you a totally unrelated question?\n",
            "true target text:  Можно я задам вам совершенно не относящийся к делу вопрос?\n",
            "predicted target text:  о мо и те о\n",
            "_________________________________________________\n"
          ]
        }
      ],
      "source": [
        "import random\n",
        "\n",
        "source_text = []\n",
        "true_target_text = []\n",
        "predicted_target_text = []\n",
        "\n",
        "with open('./rus.txt') as file:\n",
        "    lines = [line.rstrip() for line in file]\n",
        "\n",
        "n = 10\n",
        "for i in range(n):\n",
        "    seq = random.choice(lines)\n",
        "    seq = seq.split('\\t')\n",
        "    source_text.append(seq[0])\n",
        "    true_target_text.append(seq[1])\n",
        "\n",
        "predicted_target_text = model.predict(source_text)\n",
        "\n",
        "for i in range(n):\n",
        "    print('source text: ', source_text[i])\n",
        "    print('true target text: ', true_target_text[i])\n",
        "    print('predicted target text: ', predicted_target_text[i])\n",
        "    print('_________________________________________________')"
      ]
    },
    {
      "attachments": {},
      "cell_type": "markdown",
      "id": "91a0b0c2",
      "metadata": {},
      "source": [
        "### Plots"
      ]
    },
    {
      "cell_type": "code",
      "execution_count": 15,
      "id": "tVwVQUKzmuGs",
      "metadata": {
        "id": "tVwVQUKzmuGs"
      },
      "outputs": [],
      "source": [
        "import ast\n",
        "\n",
        "path_to_logs = './training_logs/progress_log.txt'\n",
        "train_loss = []\n",
        "val_loss = []\n",
        "bleu_score = []\n",
        "\n",
        "with open(path_to_logs) as file:\n",
        "    lines = [line.rstrip() for line in file]\n",
        "\n",
        "for i in range(1,len(lines)):\n",
        "    line_dict = ast.literal_eval(lines[i])\n",
        "    train_loss.append(line_dict['train_loss'])\n",
        "    val_loss.append(line_dict['val_loss'])\n",
        "    bleu_score.append(line_dict['bleu_score'])"
      ]
    },
    {
      "cell_type": "code",
      "execution_count": 29,
      "id": "qnVS3GjmlnDj",
      "metadata": {
        "colab": {
          "base_uri": "https://localhost:8080/",
          "height": 442
        },
        "id": "qnVS3GjmlnDj",
        "outputId": "3723ab11-c967-43f4-b850-08ade6645a4d"
      },
      "outputs": [
        {
          "data": {
            "image/png": "[encoded data removed]",
            "text/plain": [
              "<Figure size 1500x500 with 2 Axes>"
            ]
          },
          "metadata": {},
          "output_type": "display_data"
        }
      ],
      "source": [
        "from matplotlib import pyplot as plt\n",
        "\n",
        "fig, ax = plt.subplots(nrows=1, ncols=2, figsize=(15, 5))\n",
        "\n",
        "ax[0].plot(train_loss, label='train loss')\n",
        "ax[0].plot(val_loss, label='val loss')\n",
        "ax[0].set_xlabel('Epoch')\n",
        "ax[0].set_title('Loss')\n",
        "\n",
        "ax[1].plot(bleu_score, label='bleu')\n",
        "ax[1].set_xlabel('Epoch')\n",
        "ax[1].set_title('BLEU')\n",
        "\n",
        "plt.legend()\n",
        "plt.show()"
      ]
    },
    {
      "cell_type": "code",
      "execution_count": null,
      "id": "bJc6S7J4qmC1",
      "metadata": {
        "id": "bJc6S7J4qmC1"
      },
      "outputs": [],
      "source": []
    }
  ],
  "metadata": {
    "accelerator": "GPU",
    "colab": {
      "gpuType": "T4",
      "machine_shape": "hm",
      "provenance": []
    },
    "gpuClass": "standard",
    "kernelspec": {
      "display_name": "Python 3 (ipykernel)",
      "language": "python",
      "name": "python3"
    },
    "language_info": {
      "codemirror_mode": {
        "name": "ipython",
        "version": 3
      },
      "file_extension": ".py",
      "mimetype": "text/x-python",
      "name": "python",
      "nbconvert_exporter": "python",
      "pygments_lexer": "ipython3",
      "version": "3.9.12"
    },
    "widgets": {
      "application/vnd.jupyter.widget-state+json": {
        "0264ceacf361431dbabbc0182dbeb760": {
          "model_module": "@jupyter-widgets/controls",
          "model_module_version": "1.5.0",
          "model_name": "CheckboxModel",
          "state": {
            "_dom_classes": [],
            "_model_module": "@jupyter-widgets/controls",
            "_model_module_version": "1.5.0",
            "_model_name": "CheckboxModel",
            "_view_count": null,
            "_view_module": "@jupyter-widgets/controls",
            "_view_module_version": "1.5.0",
            "_view_name": "CheckboxView",
            "description": "Add token as git credential?",
            "description_tooltip": null,
            "disabled": false,
            "indent": true,
            "layout": "IPY_MODEL_1fed758e87c94180960fe57a6f850ebc",
            "style": "IPY_MODEL_fe34c1b1b4a84393a7b802b1a99019e1",
            "value": true
          }
        },
        "075f76c0712b409cbf897f0716c4c127": {
          "model_module": "@jupyter-widgets/base",
          "model_module_version": "1.2.0",
          "model_name": "LayoutModel",
          "state": {
            "_model_module": "@jupyter-widgets/base",
            "_model_module_version": "1.2.0",
            "_model_name": "LayoutModel",
            "_view_count": null,
            "_view_module": "@jupyter-widgets/base",
            "_view_module_version": "1.2.0",
            "_view_name": "LayoutView",
            "align_content": null,
            "align_items": null,
            "align_self": null,
            "border": null,
            "bottom": null,
            "display": null,
            "flex": null,
            "flex_flow": null,
            "grid_area": null,
            "grid_auto_columns": null,
            "grid_auto_flow": null,
            "grid_auto_rows": null,
            "grid_column": null,
            "grid_gap": null,
            "grid_row": null,
            "grid_template_areas": null,
            "grid_template_columns": null,
            "grid_template_rows": null,
            "height": null,
            "justify_content": null,
            "justify_items": null,
            "left": null,
            "margin": null,
            "max_height": null,
            "max_width": null,
            "min_height": null,
            "min_width": null,
            "object_fit": null,
            "object_position": null,
            "order": null,
            "overflow": null,
            "overflow_x": null,
            "overflow_y": null,
            "padding": null,
            "right": null,
            "top": null,
            "visibility": null,
            "width": null
          }
        },
        "18a44177eeb34989ba35e938eb38874a": {
          "model_module": "@jupyter-widgets/base",
          "model_module_version": "1.2.0",
          "model_name": "LayoutModel",
          "state": {
            "_model_module": "@jupyter-widgets/base",
            "_model_module_version": "1.2.0",
            "_model_name": "LayoutModel",
            "_view_count": null,
            "_view_module": "@jupyter-widgets/base",
            "_view_module_version": "1.2.0",
            "_view_name": "LayoutView",
            "align_content": null,
            "align_items": null,
            "align_self": null,
            "border": null,
            "bottom": null,
            "display": null,
            "flex": null,
            "flex_flow": null,
            "grid_area": null,
            "grid_auto_columns": null,
            "grid_auto_flow": null,
            "grid_auto_rows": null,
            "grid_column": null,
            "grid_gap": null,
            "grid_row": null,
            "grid_template_areas": null,
            "grid_template_columns": null,
            "grid_template_rows": null,
            "height": null,
            "justify_content": null,
            "justify_items": null,
            "left": null,
            "margin": null,
            "max_height": null,
            "max_width": null,
            "min_height": null,
            "min_width": null,
            "object_fit": null,
            "object_position": null,
            "order": null,
            "overflow": null,
            "overflow_x": null,
            "overflow_y": null,
            "padding": null,
            "right": null,
            "top": null,
            "visibility": null,
            "width": null
          }
        },
        "1f48ac8274c04af88211736f23612bb0": {
          "model_module": "@jupyter-widgets/controls",
          "model_module_version": "1.5.0",
          "model_name": "LabelModel",
          "state": {
            "_dom_classes": [],
            "_model_module": "@jupyter-widgets/controls",
            "_model_module_version": "1.5.0",
            "_model_name": "LabelModel",
            "_view_count": null,
            "_view_module": "@jupyter-widgets/controls",
            "_view_module_version": "1.5.0",
            "_view_name": "LabelView",
            "description": "",
            "description_tooltip": null,
            "layout": "IPY_MODEL_ac0b263ff9f740b19409966aab39b40a",
            "placeholder": "​",
            "style": "IPY_MODEL_bf803035b05146559599df9db2554018",
            "value": "Login successful"
          }
        },
        "1fed758e87c94180960fe57a6f850ebc": {
          "model_module": "@jupyter-widgets/base",
          "model_module_version": "1.2.0",
          "model_name": "LayoutModel",
          "state": {
            "_model_module": "@jupyter-widgets/base",
            "_model_module_version": "1.2.0",
            "_model_name": "LayoutModel",
            "_view_count": null,
            "_view_module": "@jupyter-widgets/base",
            "_view_module_version": "1.2.0",
            "_view_name": "LayoutView",
            "align_content": null,
            "align_items": null,
            "align_self": null,
            "border": null,
            "bottom": null,
            "display": null,
            "flex": null,
            "flex_flow": null,
            "grid_area": null,
            "grid_auto_columns": null,
            "grid_auto_flow": null,
            "grid_auto_rows": null,
            "grid_column": null,
            "grid_gap": null,
            "grid_row": null,
            "grid_template_areas": null,
            "grid_template_columns": null,
            "grid_template_rows": null,
            "height": null,
            "justify_content": null,
            "justify_items": null,
            "left": null,
            "margin": null,
            "max_height": null,
            "max_width": null,
            "min_height": null,
            "min_width": null,
            "object_fit": null,
            "object_position": null,
            "order": null,
            "overflow": null,
            "overflow_x": null,
            "overflow_y": null,
            "padding": null,
            "right": null,
            "top": null,
            "visibility": null,
            "width": null
          }
        },
        "2109002b8aad40e3849c0b835bce6256": {
          "model_module": "@jupyter-widgets/base",
          "model_module_version": "1.2.0",
          "model_name": "LayoutModel",
          "state": {
            "_model_module": "@jupyter-widgets/base",
            "_model_module_version": "1.2.0",
            "_model_name": "LayoutModel",
            "_view_count": null,
            "_view_module": "@jupyter-widgets/base",
            "_view_module_version": "1.2.0",
            "_view_name": "LayoutView",
            "align_content": null,
            "align_items": null,
            "align_self": null,
            "border": null,
            "bottom": null,
            "display": null,
            "flex": null,
            "flex_flow": null,
            "grid_area": null,
            "grid_auto_columns": null,
            "grid_auto_flow": null,
            "grid_auto_rows": null,
            "grid_column": null,
            "grid_gap": null,
            "grid_row": null,
            "grid_template_areas": null,
            "grid_template_columns": null,
            "grid_template_rows": null,
            "height": null,
            "justify_content": null,
            "justify_items": null,
            "left": null,
            "margin": null,
            "max_height": null,
            "max_width": null,
            "min_height": null,
            "min_width": null,
            "object_fit": null,
            "object_position": null,
            "order": null,
            "overflow": null,
            "overflow_x": null,
            "overflow_y": null,
            "padding": null,
            "right": null,
            "top": null,
            "visibility": null,
            "width": null
          }
        },
        "2c79d75c9a33424489a1547d3774b923": {
          "model_module": "@jupyter-widgets/controls",
          "model_module_version": "1.5.0",
          "model_name": "LabelModel",
          "state": {
            "_dom_classes": [],
            "_model_module": "@jupyter-widgets/controls",
            "_model_module_version": "1.5.0",
            "_model_name": "LabelModel",
            "_view_count": null,
            "_view_module": "@jupyter-widgets/controls",
            "_view_module_version": "1.5.0",
            "_view_name": "LabelView",
            "description": "",
            "description_tooltip": null,
            "layout": "IPY_MODEL_6212f52e91f645f5b5dfbba317f6515f",
            "placeholder": "​",
            "style": "IPY_MODEL_ed34eac81f3243a5ac69f34a938fbf78",
            "value": "Connecting..."
          }
        },
        "367ccd2b63a743bf8b079f28acf2b525": {
          "model_module": "@jupyter-widgets/base",
          "model_module_version": "1.2.0",
          "model_name": "LayoutModel",
          "state": {
            "_model_module": "@jupyter-widgets/base",
            "_model_module_version": "1.2.0",
            "_model_name": "LayoutModel",
            "_view_count": null,
            "_view_module": "@jupyter-widgets/base",
            "_view_module_version": "1.2.0",
            "_view_name": "LayoutView",
            "align_content": null,
            "align_items": null,
            "align_self": null,
            "border": null,
            "bottom": null,
            "display": null,
            "flex": null,
            "flex_flow": null,
            "grid_area": null,
            "grid_auto_columns": null,
            "grid_auto_flow": null,
            "grid_auto_rows": null,
            "grid_column": null,
            "grid_gap": null,
            "grid_row": null,
            "grid_template_areas": null,
            "grid_template_columns": null,
            "grid_template_rows": null,
            "height": null,
            "justify_content": null,
            "justify_items": null,
            "left": null,
            "margin": null,
            "max_height": null,
            "max_width": null,
            "min_height": null,
            "min_width": null,
            "object_fit": null,
            "object_position": null,
            "order": null,
            "overflow": null,
            "overflow_x": null,
            "overflow_y": null,
            "padding": null,
            "right": null,
            "top": null,
            "visibility": null,
            "width": null
          }
        },
        "36fca3ef695e47798a10be4036867aa6": {
          "model_module": "@jupyter-widgets/controls",
          "model_module_version": "1.5.0",
          "model_name": "DescriptionStyleModel",
          "state": {
            "_model_module": "@jupyter-widgets/controls",
            "_model_module_version": "1.5.0",
            "_model_name": "DescriptionStyleModel",
            "_view_count": null,
            "_view_module": "@jupyter-widgets/base",
            "_view_module_version": "1.2.0",
            "_view_name": "StyleView",
            "description_width": ""
          }
        },
        "38f6b3efcaa74e9f8467c58140251856": {
          "model_module": "@jupyter-widgets/controls",
          "model_module_version": "1.5.0",
          "model_name": "DescriptionStyleModel",
          "state": {
            "_model_module": "@jupyter-widgets/controls",
            "_model_module_version": "1.5.0",
            "_model_name": "DescriptionStyleModel",
            "_view_count": null,
            "_view_module": "@jupyter-widgets/base",
            "_view_module_version": "1.2.0",
            "_view_name": "StyleView",
            "description_width": ""
          }
        },
        "3f65a01bbefc4aa58c6752f77bb87a70": {
          "model_module": "@jupyter-widgets/controls",
          "model_module_version": "1.5.0",
          "model_name": "DescriptionStyleModel",
          "state": {
            "_model_module": "@jupyter-widgets/controls",
            "_model_module_version": "1.5.0",
            "_model_name": "DescriptionStyleModel",
            "_view_count": null,
            "_view_module": "@jupyter-widgets/base",
            "_view_module_version": "1.2.0",
            "_view_name": "StyleView",
            "description_width": ""
          }
        },
        "585f22b6e23643d487bab9925e168e81": {
          "model_module": "@jupyter-widgets/controls",
          "model_module_version": "1.5.0",
          "model_name": "HTMLModel",
          "state": {
            "_dom_classes": [],
            "_model_module": "@jupyter-widgets/controls",
            "_model_module_version": "1.5.0",
            "_model_name": "HTMLModel",
            "_view_count": null,
            "_view_module": "@jupyter-widgets/controls",
            "_view_module_version": "1.5.0",
            "_view_name": "HTMLView",
            "description": "",
            "description_tooltip": null,
            "layout": "IPY_MODEL_367ccd2b63a743bf8b079f28acf2b525",
            "placeholder": "​",
            "style": "IPY_MODEL_b0a96049123c4b3faf5c21732b7cd89f",
            "value": "\n<b>Pro Tip:</b> If you don't already have one, you can create a dedicated\n'notebooks' token with 'write' access, that you can then easily reuse for all\nnotebooks. </center>"
          }
        },
        "6212f52e91f645f5b5dfbba317f6515f": {
          "model_module": "@jupyter-widgets/base",
          "model_module_version": "1.2.0",
          "model_name": "LayoutModel",
          "state": {
            "_model_module": "@jupyter-widgets/base",
            "_model_module_version": "1.2.0",
            "_model_name": "LayoutModel",
            "_view_count": null,
            "_view_module": "@jupyter-widgets/base",
            "_view_module_version": "1.2.0",
            "_view_name": "LayoutView",
            "align_content": null,
            "align_items": null,
            "align_self": null,
            "border": null,
            "bottom": null,
            "display": null,
            "flex": null,
            "flex_flow": null,
            "grid_area": null,
            "grid_auto_columns": null,
            "grid_auto_flow": null,
            "grid_auto_rows": null,
            "grid_column": null,
            "grid_gap": null,
            "grid_row": null,
            "grid_template_areas": null,
            "grid_template_columns": null,
            "grid_template_rows": null,
            "height": null,
            "justify_content": null,
            "justify_items": null,
            "left": null,
            "margin": null,
            "max_height": null,
            "max_width": null,
            "min_height": null,
            "min_width": null,
            "object_fit": null,
            "object_position": null,
            "order": null,
            "overflow": null,
            "overflow_x": null,
            "overflow_y": null,
            "padding": null,
            "right": null,
            "top": null,
            "visibility": null,
            "width": null
          }
        },
        "66bac5c47af545d2a3eb8e9607410488": {
          "model_module": "@jupyter-widgets/base",
          "model_module_version": "1.2.0",
          "model_name": "LayoutModel",
          "state": {
            "_model_module": "@jupyter-widgets/base",
            "_model_module_version": "1.2.0",
            "_model_name": "LayoutModel",
            "_view_count": null,
            "_view_module": "@jupyter-widgets/base",
            "_view_module_version": "1.2.0",
            "_view_name": "LayoutView",
            "align_content": null,
            "align_items": null,
            "align_self": null,
            "border": null,
            "bottom": null,
            "display": null,
            "flex": null,
            "flex_flow": null,
            "grid_area": null,
            "grid_auto_columns": null,
            "grid_auto_flow": null,
            "grid_auto_rows": null,
            "grid_column": null,
            "grid_gap": null,
            "grid_row": null,
            "grid_template_areas": null,
            "grid_template_columns": null,
            "grid_template_rows": null,
            "height": null,
            "justify_content": null,
            "justify_items": null,
            "left": null,
            "margin": null,
            "max_height": null,
            "max_width": null,
            "min_height": null,
            "min_width": null,
            "object_fit": null,
            "object_position": null,
            "order": null,
            "overflow": null,
            "overflow_x": null,
            "overflow_y": null,
            "padding": null,
            "right": null,
            "top": null,
            "visibility": null,
            "width": null
          }
        },
        "7bbfae3076fc4b679dc6704f8b1a92bc": {
          "model_module": "@jupyter-widgets/controls",
          "model_module_version": "1.5.0",
          "model_name": "ButtonStyleModel",
          "state": {
            "_model_module": "@jupyter-widgets/controls",
            "_model_module_version": "1.5.0",
            "_model_name": "ButtonStyleModel",
            "_view_count": null,
            "_view_module": "@jupyter-widgets/base",
            "_view_module_version": "1.2.0",
            "_view_name": "StyleView",
            "button_color": null,
            "font_weight": ""
          }
        },
        "7be41c82796242569b968bc2b8782ccc": {
          "model_module": "@jupyter-widgets/controls",
          "model_module_version": "1.5.0",
          "model_name": "LabelModel",
          "state": {
            "_dom_classes": [],
            "_model_module": "@jupyter-widgets/controls",
            "_model_module_version": "1.5.0",
            "_model_name": "LabelModel",
            "_view_count": null,
            "_view_module": "@jupyter-widgets/controls",
            "_view_module_version": "1.5.0",
            "_view_name": "LabelView",
            "description": "",
            "description_tooltip": null,
            "layout": "IPY_MODEL_81b99da45e114221bc3cf4c3efb2d2b1",
            "placeholder": "​",
            "style": "IPY_MODEL_864e493486ea4244a96da8b55ed7415c",
            "value": "Your token has been saved to /root/.cache/huggingface/token"
          }
        },
        "81b99da45e114221bc3cf4c3efb2d2b1": {
          "model_module": "@jupyter-widgets/base",
          "model_module_version": "1.2.0",
          "model_name": "LayoutModel",
          "state": {
            "_model_module": "@jupyter-widgets/base",
            "_model_module_version": "1.2.0",
            "_model_name": "LayoutModel",
            "_view_count": null,
            "_view_module": "@jupyter-widgets/base",
            "_view_module_version": "1.2.0",
            "_view_name": "LayoutView",
            "align_content": null,
            "align_items": null,
            "align_self": null,
            "border": null,
            "bottom": null,
            "display": null,
            "flex": null,
            "flex_flow": null,
            "grid_area": null,
            "grid_auto_columns": null,
            "grid_auto_flow": null,
            "grid_auto_rows": null,
            "grid_column": null,
            "grid_gap": null,
            "grid_row": null,
            "grid_template_areas": null,
            "grid_template_columns": null,
            "grid_template_rows": null,
            "height": null,
            "justify_content": null,
            "justify_items": null,
            "left": null,
            "margin": null,
            "max_height": null,
            "max_width": null,
            "min_height": null,
            "min_width": null,
            "object_fit": null,
            "object_position": null,
            "order": null,
            "overflow": null,
            "overflow_x": null,
            "overflow_y": null,
            "padding": null,
            "right": null,
            "top": null,
            "visibility": null,
            "width": null
          }
        },
        "864e493486ea4244a96da8b55ed7415c": {
          "model_module": "@jupyter-widgets/controls",
          "model_module_version": "1.5.0",
          "model_name": "DescriptionStyleModel",
          "state": {
            "_model_module": "@jupyter-widgets/controls",
            "_model_module_version": "1.5.0",
            "_model_name": "DescriptionStyleModel",
            "_view_count": null,
            "_view_module": "@jupyter-widgets/base",
            "_view_module_version": "1.2.0",
            "_view_name": "StyleView",
            "description_width": ""
          }
        },
        "96ee6667edc34ff49f697a7e2e467485": {
          "model_module": "@jupyter-widgets/controls",
          "model_module_version": "1.5.0",
          "model_name": "LabelModel",
          "state": {
            "_dom_classes": [],
            "_model_module": "@jupyter-widgets/controls",
            "_model_module_version": "1.5.0",
            "_model_name": "LabelModel",
            "_view_count": null,
            "_view_module": "@jupyter-widgets/controls",
            "_view_module_version": "1.5.0",
            "_view_name": "LabelView",
            "description": "",
            "description_tooltip": null,
            "layout": "IPY_MODEL_2109002b8aad40e3849c0b835bce6256",
            "placeholder": "​",
            "style": "IPY_MODEL_38f6b3efcaa74e9f8467c58140251856",
            "value": "Your token has been saved in your configured git credential helpers (store)."
          }
        },
        "a27034a12f404ffab8821d5e3edb9acd": {
          "model_module": "@jupyter-widgets/controls",
          "model_module_version": "1.5.0",
          "model_name": "ButtonModel",
          "state": {
            "_dom_classes": [],
            "_model_module": "@jupyter-widgets/controls",
            "_model_module_version": "1.5.0",
            "_model_name": "ButtonModel",
            "_view_count": null,
            "_view_module": "@jupyter-widgets/controls",
            "_view_module_version": "1.5.0",
            "_view_name": "ButtonView",
            "button_style": "",
            "description": "Login",
            "disabled": false,
            "icon": "",
            "layout": "IPY_MODEL_18a44177eeb34989ba35e938eb38874a",
            "style": "IPY_MODEL_7bbfae3076fc4b679dc6704f8b1a92bc",
            "tooltip": ""
          }
        },
        "ac0b263ff9f740b19409966aab39b40a": {
          "model_module": "@jupyter-widgets/base",
          "model_module_version": "1.2.0",
          "model_name": "LayoutModel",
          "state": {
            "_model_module": "@jupyter-widgets/base",
            "_model_module_version": "1.2.0",
            "_model_name": "LayoutModel",
            "_view_count": null,
            "_view_module": "@jupyter-widgets/base",
            "_view_module_version": "1.2.0",
            "_view_name": "LayoutView",
            "align_content": null,
            "align_items": null,
            "align_self": null,
            "border": null,
            "bottom": null,
            "display": null,
            "flex": null,
            "flex_flow": null,
            "grid_area": null,
            "grid_auto_columns": null,
            "grid_auto_flow": null,
            "grid_auto_rows": null,
            "grid_column": null,
            "grid_gap": null,
            "grid_row": null,
            "grid_template_areas": null,
            "grid_template_columns": null,
            "grid_template_rows": null,
            "height": null,
            "justify_content": null,
            "justify_items": null,
            "left": null,
            "margin": null,
            "max_height": null,
            "max_width": null,
            "min_height": null,
            "min_width": null,
            "object_fit": null,
            "object_position": null,
            "order": null,
            "overflow": null,
            "overflow_x": null,
            "overflow_y": null,
            "padding": null,
            "right": null,
            "top": null,
            "visibility": null,
            "width": null
          }
        },
        "b0a96049123c4b3faf5c21732b7cd89f": {
          "model_module": "@jupyter-widgets/controls",
          "model_module_version": "1.5.0",
          "model_name": "DescriptionStyleModel",
          "state": {
            "_model_module": "@jupyter-widgets/controls",
            "_model_module_version": "1.5.0",
            "_model_name": "DescriptionStyleModel",
            "_view_count": null,
            "_view_module": "@jupyter-widgets/base",
            "_view_module_version": "1.2.0",
            "_view_name": "StyleView",
            "description_width": ""
          }
        },
        "bf803035b05146559599df9db2554018": {
          "model_module": "@jupyter-widgets/controls",
          "model_module_version": "1.5.0",
          "model_name": "DescriptionStyleModel",
          "state": {
            "_model_module": "@jupyter-widgets/controls",
            "_model_module_version": "1.5.0",
            "_model_name": "DescriptionStyleModel",
            "_view_count": null,
            "_view_module": "@jupyter-widgets/base",
            "_view_module_version": "1.2.0",
            "_view_name": "StyleView",
            "description_width": ""
          }
        },
        "c1ed7462ffe24fe9ba80032ab8e481ea": {
          "model_module": "@jupyter-widgets/controls",
          "model_module_version": "1.5.0",
          "model_name": "DescriptionStyleModel",
          "state": {
            "_model_module": "@jupyter-widgets/controls",
            "_model_module_version": "1.5.0",
            "_model_name": "DescriptionStyleModel",
            "_view_count": null,
            "_view_module": "@jupyter-widgets/base",
            "_view_module_version": "1.2.0",
            "_view_name": "StyleView",
            "description_width": ""
          }
        },
        "c46eeaeb45ec4e5eb7042761eaa671e4": {
          "model_module": "@jupyter-widgets/base",
          "model_module_version": "1.2.0",
          "model_name": "LayoutModel",
          "state": {
            "_model_module": "@jupyter-widgets/base",
            "_model_module_version": "1.2.0",
            "_model_name": "LayoutModel",
            "_view_count": null,
            "_view_module": "@jupyter-widgets/base",
            "_view_module_version": "1.2.0",
            "_view_name": "LayoutView",
            "align_content": null,
            "align_items": null,
            "align_self": null,
            "border": null,
            "bottom": null,
            "display": null,
            "flex": null,
            "flex_flow": null,
            "grid_area": null,
            "grid_auto_columns": null,
            "grid_auto_flow": null,
            "grid_auto_rows": null,
            "grid_column": null,
            "grid_gap": null,
            "grid_row": null,
            "grid_template_areas": null,
            "grid_template_columns": null,
            "grid_template_rows": null,
            "height": null,
            "justify_content": null,
            "justify_items": null,
            "left": null,
            "margin": null,
            "max_height": null,
            "max_width": null,
            "min_height": null,
            "min_width": null,
            "object_fit": null,
            "object_position": null,
            "order": null,
            "overflow": null,
            "overflow_x": null,
            "overflow_y": null,
            "padding": null,
            "right": null,
            "top": null,
            "visibility": null,
            "width": null
          }
        },
        "cabf501038e04b6f9dc49515adcc783d": {
          "model_module": "@jupyter-widgets/controls",
          "model_module_version": "1.5.0",
          "model_name": "HTMLModel",
          "state": {
            "_dom_classes": [],
            "_model_module": "@jupyter-widgets/controls",
            "_model_module_version": "1.5.0",
            "_model_name": "HTMLModel",
            "_view_count": null,
            "_view_module": "@jupyter-widgets/controls",
            "_view_module_version": "1.5.0",
            "_view_name": "HTMLView",
            "description": "",
            "description_tooltip": null,
            "layout": "IPY_MODEL_c46eeaeb45ec4e5eb7042761eaa671e4",
            "placeholder": "​",
            "style": "IPY_MODEL_3f65a01bbefc4aa58c6752f77bb87a70",
            "value": "<center> <img\nsrc=https://huggingface.co/front/assets/huggingface_logo-noborder.svg\nalt='Hugging Face'> <br> Copy a token from <a\nhref=\"https://huggingface.co/settings/tokens\" target=\"_blank\">your Hugging Face\ntokens page</a> and paste it below. <br> Immediately click login after copying\nyour token or it might be stored in plain text in this notebook file. </center>"
          }
        },
        "cb4e09e931ec47eaa2fe87d6fde86030": {
          "model_module": "@jupyter-widgets/controls",
          "model_module_version": "1.5.0",
          "model_name": "PasswordModel",
          "state": {
            "_dom_classes": [],
            "_model_module": "@jupyter-widgets/controls",
            "_model_module_version": "1.5.0",
            "_model_name": "PasswordModel",
            "_view_count": null,
            "_view_module": "@jupyter-widgets/controls",
            "_view_module_version": "1.5.0",
            "_view_name": "PasswordView",
            "continuous_update": true,
            "description": "Token:",
            "description_tooltip": null,
            "disabled": false,
            "layout": "IPY_MODEL_66bac5c47af545d2a3eb8e9607410488",
            "placeholder": "​",
            "style": "IPY_MODEL_c1ed7462ffe24fe9ba80032ab8e481ea",
            "value": ""
          }
        },
        "cf78cb2f4fa745d6b4aa74e3f1a065fb": {
          "model_module": "@jupyter-widgets/controls",
          "model_module_version": "1.5.0",
          "model_name": "LabelModel",
          "state": {
            "_dom_classes": [],
            "_model_module": "@jupyter-widgets/controls",
            "_model_module_version": "1.5.0",
            "_model_name": "LabelModel",
            "_view_count": null,
            "_view_module": "@jupyter-widgets/controls",
            "_view_module_version": "1.5.0",
            "_view_name": "LabelView",
            "description": "",
            "description_tooltip": null,
            "layout": "IPY_MODEL_075f76c0712b409cbf897f0716c4c127",
            "placeholder": "​",
            "style": "IPY_MODEL_36fca3ef695e47798a10be4036867aa6",
            "value": "Token is valid."
          }
        },
        "da4fdce507174e5f9d9a0266c051619c": {
          "model_module": "@jupyter-widgets/base",
          "model_module_version": "1.2.0",
          "model_name": "LayoutModel",
          "state": {
            "_model_module": "@jupyter-widgets/base",
            "_model_module_version": "1.2.0",
            "_model_name": "LayoutModel",
            "_view_count": null,
            "_view_module": "@jupyter-widgets/base",
            "_view_module_version": "1.2.0",
            "_view_name": "LayoutView",
            "align_content": null,
            "align_items": "center",
            "align_self": null,
            "border": null,
            "bottom": null,
            "display": "flex",
            "flex": null,
            "flex_flow": "column",
            "grid_area": null,
            "grid_auto_columns": null,
            "grid_auto_flow": null,
            "grid_auto_rows": null,
            "grid_column": null,
            "grid_gap": null,
            "grid_row": null,
            "grid_template_areas": null,
            "grid_template_columns": null,
            "grid_template_rows": null,
            "height": null,
            "justify_content": null,
            "justify_items": null,
            "left": null,
            "margin": null,
            "max_height": null,
            "max_width": null,
            "min_height": null,
            "min_width": null,
            "object_fit": null,
            "object_position": null,
            "order": null,
            "overflow": null,
            "overflow_x": null,
            "overflow_y": null,
            "padding": null,
            "right": null,
            "top": null,
            "visibility": null,
            "width": "50%"
          }
        },
        "ed34eac81f3243a5ac69f34a938fbf78": {
          "model_module": "@jupyter-widgets/controls",
          "model_module_version": "1.5.0",
          "model_name": "DescriptionStyleModel",
          "state": {
            "_model_module": "@jupyter-widgets/controls",
            "_model_module_version": "1.5.0",
            "_model_name": "DescriptionStyleModel",
            "_view_count": null,
            "_view_module": "@jupyter-widgets/base",
            "_view_module_version": "1.2.0",
            "_view_name": "StyleView",
            "description_width": ""
          }
        },
        "f529c1da6b0546ad9f90f46eed42311c": {
          "model_module": "@jupyter-widgets/controls",
          "model_module_version": "1.5.0",
          "model_name": "VBoxModel",
          "state": {
            "_dom_classes": [],
            "_model_module": "@jupyter-widgets/controls",
            "_model_module_version": "1.5.0",
            "_model_name": "VBoxModel",
            "_view_count": null,
            "_view_module": "@jupyter-widgets/controls",
            "_view_module_version": "1.5.0",
            "_view_name": "VBoxView",
            "box_style": "",
            "children": [
              "IPY_MODEL_cf78cb2f4fa745d6b4aa74e3f1a065fb",
              "IPY_MODEL_96ee6667edc34ff49f697a7e2e467485",
              "IPY_MODEL_7be41c82796242569b968bc2b8782ccc",
              "IPY_MODEL_1f48ac8274c04af88211736f23612bb0"
            ],
            "layout": "IPY_MODEL_da4fdce507174e5f9d9a0266c051619c"
          }
        },
        "fe34c1b1b4a84393a7b802b1a99019e1": {
          "model_module": "@jupyter-widgets/controls",
          "model_module_version": "1.5.0",
          "model_name": "DescriptionStyleModel",
          "state": {
            "_model_module": "@jupyter-widgets/controls",
            "_model_module_version": "1.5.0",
            "_model_name": "DescriptionStyleModel",
            "_view_count": null,
            "_view_module": "@jupyter-widgets/base",
            "_view_module_version": "1.2.0",
            "_view_name": "StyleView",
            "description_width": ""
          }
        }
      }
    }
  },
  "nbformat": 4,
  "nbformat_minor": 5
}
